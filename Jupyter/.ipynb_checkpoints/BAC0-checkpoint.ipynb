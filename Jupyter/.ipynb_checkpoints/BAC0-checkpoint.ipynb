{
 "cells": [
  {
   "cell_type": "markdown",
   "metadata": {},
   "source": [
    "# BAC0\n",
    "\n",
    "BAC0 is a script module based on bacpypes (https://github.com/JoelBender/bacpypes.git) to automate task using Bacnet/IP protocole. It's mainly targetted as a tool to test sequences on DDC controlelrs using bacnet.\n",
    "\n",
    "Using the simplciity of python, the power of pandas, it's easy to test and keep a trace of the history of each points.\n",
    "\n",
    "## How to use\n",
    "\n",
    "First you must install the 2 modules\n",
    "pip install bacpypes\n",
    "- git clone https://github.com/ChristianTremblay/BAC0.git (python setup.py install)\n",
    "\n",
    "Note : All tests have been done in Windows 7 using Anaconda3 (http://continuum.io/downloads)"
   ]
  },
  {
   "cell_type": "markdown",
   "metadata": {},
   "source": [
    "## Import module"
   ]
  },
  {
   "cell_type": "code",
   "execution_count": 1,
   "metadata": {
    "collapsed": false,
    "scrolled": false
   },
   "outputs": [
    {
     "name": "stderr",
     "output_type": "stream",
     "text": [
      "/home/pi/miniconda3/lib/python3.4/importlib/_bootstrap.py:321: FutureWarning: The pandas.lib module is deprecated and will be removed in a future version. These are private functions and can be accessed from pandas._libs.lib instead\n",
      "  return f(*args, **kwds)\n"
     ]
    },
    {
     "name": "stdout",
     "output_type": "stream",
     "text": [
      "xlwings not installed. If using Windows or OSX, install to get more features.\n",
      "Using ip : 192.168.111.13\n",
      "Click here to open Live Trending Web Page\n",
      "http://localhost:5006/?bokeh-session-id=WMT6jGoglqAs2Sw2fhmwJhuZF6MsObrLDakK7d7N5kbo\n"
     ]
    }
   ],
   "source": [
    "import BAC0\n",
    "import pandas as pd\n",
    "%matplotlib inline\n",
    "# Define network and connect to it\n",
    "bacnet = BAC0.connect()"
   ]
  },
  {
   "cell_type": "code",
   "execution_count": 2,
   "metadata": {
    "collapsed": false
   },
   "outputs": [
    {
     "data": {
      "text/plain": [
       "'0.99.100'"
      ]
     },
     "execution_count": 2,
     "metadata": {},
     "output_type": "execute_result"
    }
   ],
   "source": [
    "BAC0.version"
   ]
  },
  {
   "cell_type": "code",
   "execution_count": 2,
   "metadata": {
    "collapsed": false,
    "scrolled": true
   },
   "outputs": [
    {
     "name": "stdout",
     "output_type": "stream",
     "text": [
      "Found FX14 0005... building points list\n",
      "Ready!\n",
      "Polling started, every values read each 10 seconds\n"
     ]
    }
   ],
   "source": [
    "# Define the controller using : controller = BAC0.device(address, device_id, network)\n",
    "fx = BAC0.device('2:5',5,bacnet)"
   ]
  },
  {
   "cell_type": "code",
   "execution_count": 4,
   "metadata": {
    "collapsed": false,
    "scrolled": true
   },
   "outputs": [
    {
     "data": {
      "text/plain": [
       "[nvoAI3 : 3.74 degreesCelsius,\n",
       " nvoAI4 : 45.65 percent,\n",
       " nvoAI6 : 345.20 kilopascals,\n",
       " nvoAI5 : 1.85 percent,\n",
       " nvoAI1 : 44.87 degreesCelsius,\n",
       " nvoAI2 : 22.76 degreesCelsius,\n",
       " nvoDO6 : 13.85 percent,\n",
       " nvoEffTempEtage : 22.87 degreesCelsius,\n",
       " nvoEffTempSS : 20.77 degreesCelsius,\n",
       " nvoTempRdC : 21.83 degreesCelsius,\n",
       " nciPCTExtMinVolet : -12.00 degreesCelsius,\n",
       " nciPIDBLTRetPC : 20.00 degreesCelsius,\n",
       " nvoDemChauff : 98.66 percent,\n",
       " nvoDemRefroid : 0.00 percent,\n",
       " nvoEffPCSS : 22.00 degreesCelsius,\n",
       " nvoPCCTAli : 44.68 degreesCelsius,\n",
       " nvoEffPCEtage : 22.20 degreesCelsius,\n",
       " nciPIDTPSousSolPB : 5.00 degreesCelsius,\n",
       " nciPIDTPSousSolTI : 800.00 seconds,\n",
       " nciPIDTPEtageTI : 800.00 seconds,\n",
       " nciPIDTPRdCTI : 800.00 seconds,\n",
       " nciPIDTPEtagePB : 5.00 degreesCelsius,\n",
       " nciPIDTAliPB : 10.00 degreesCelsius,\n",
       " nciPIDTAliTI : 90.00 seconds,\n",
       " nciPCTAliMax : 45.00 degreesCelsius,\n",
       " nciPCTAliMin : 13.00 degreesCelsius,\n",
       " nciPCTAliMed : 22.00 degreesCelsius,\n",
       " nciPIDHumPB : 30.00 percent,\n",
       " nciPIDHumTI : 120.00 seconds,\n",
       " nciPIDDeshumTI : 120.00 seconds,\n",
       " nvoPIDDeshumOut : 0.00 percent,\n",
       " nciPIDDeshumPB : 30.00 percent,\n",
       " nvoPIDHumOut : 0.00 percent,\n",
       " nciDemRefroidHV : 95.00 percent,\n",
       " ncikWTotal : 15.00 noUnits,\n",
       " nciDeshumNivHV : 50.00 percent,\n",
       " nciPIDHumPC : 30.00 percent,\n",
       " nvoEffectkW : 0.66 noUnits,\n",
       " nvoPressionEauPSI : 50.07 noUnits,\n",
       " nvoPIDTPSousSolOut : 50.00 percent,\n",
       " nvoPIDTPRdCOut : 0.69 percent,\n",
       " nvoPIDTPEtageSortie : 50.00 percent,\n",
       " nciDemChauffHV : 90.00 percent,\n",
       " nciDelaiMinOnHV : 120.00 seconds,\n",
       " nciDiffAlrmPmp : 0.00 kilopascals,\n",
       " nciPCBassePression : 0.00 kilopascals,\n",
       " nciDelaiAlrmPompe : 120.00 seconds,\n",
       " nviPCEtage : 22.20 degreesCelsius,\n",
       " nviTempEtage : 22.87 degreesCelsius,\n",
       " nviPCSousSol : 22.00 degreesCelsius,\n",
       " nviTempSousSol : 20.78 degreesCelsius,\n",
       " nciPIDBLTRetPB : 5.00 degreesCelsius,\n",
       " nvoAO1 : 100.00 percent,\n",
       " nciPIDDeshumPC : 60.00 percent,\n",
       " nciPIDBLTRetTI : 60.00 seconds,\n",
       " nvoAO2 : 0.00 percent,\n",
       " nciDureeOccupSousSol : 180.00 minutes,\n",
       " nciDelaiMinModeUrgen : 60.00 minutes,\n",
       " nciPIDTPRdCPB : 5.00 degreesCelsius,\n",
       " nciPCTPRdCAbsent : 20.00 degreesCelsius,\n",
       " nciPCTRetMinUrgence : 15.00 degreesCelsius,\n",
       " nciPCTExtPrmChauffTP : 16.00 degreesCelsius,\n",
       " nciPCTExtPrmClim : 13.00 degreesCelsius,\n",
       " nciPCTExtPrmSCR : 10.00 degreesCelsius,\n",
       " nciPCTExtMinChauffTP : -12.00 degreesCelsius,\n",
       " nciResetPompe : OFF,\n",
       " nciOvrdDO9.State : AUTO,\n",
       " nciOvrdDO8.State : AUTO,\n",
       " nciOvrdDO6.State : AUTO,\n",
       " nciOvrdDO7.State : AUTO,\n",
       " nvoEtapeAct : Chauffage,\n",
       " SCH_nvoHoraire.Curre : Occupied,\n",
       " nviOccupRequestSousS : ERR,\n",
       " nviOccupRequestEtage : ERR,\n",
       " nvoProbSondeSS : OK,\n",
       " nvoProbSondeEtage : Ok,\n",
       " nciOvrdDO5.State : AUTO,\n",
       " nvoAlarmPompe : OFF,\n",
       " nvoAlrmGravePompe : OFF,\n",
       " nvoTempOccup : OFF,\n",
       " nvoEffOccupancy : Occupe,\n",
       " nciModeOperation : AUTO,\n",
       " nciSelectConsigne : Auto,\n",
       " nvoConsActuelle : RezDeChaussee,\n",
       " nciOvrdDO2.State : AUTO,\n",
       " nciOvrdDO3.State : AUTO,\n",
       " nciOvrdDO4.State : AUTO,\n",
       " nciOvrdDO1.State : AUTO,\n",
       " nciModeDeshum : Aucune,\n",
       " nciOvrdAO1.State : AUTO,\n",
       " nciOvrdAO2.State : AUTO,\n",
       " nvoDI7 : False,\n",
       " nvoDI8 : False,\n",
       " nvoDI10 : False,\n",
       " nvoDI9 : False,\n",
       " nvoDI6 : False,\n",
       " nvoDI4 : False,\n",
       " nvoDI3 : False,\n",
       " nvoDI5 : False,\n",
       " nvoDI1 : True,\n",
       " nvoDI2 : False,\n",
       " nvoDI11 : False,\n",
       " nvoDI12 : True,\n",
       " nvoDO8 : True,\n",
       " nvoDO7 : False,\n",
       " nvoDO3 : True,\n",
       " nvoDO9 : False,\n",
       " nvoDO2 : False,\n",
       " nvoDO1 : False,\n",
       " nvoDO5 : False,\n",
       " nvoDO4 : True,\n",
       " nciHumidif : False]"
      ]
     },
     "execution_count": 4,
     "metadata": {},
     "output_type": "execute_result"
    }
   ],
   "source": [
    "# Access points list\n",
    "fx.points"
   ]
  },
  {
   "cell_type": "code",
   "execution_count": 6,
   "metadata": {
    "collapsed": false
   },
   "outputs": [
    {
     "data": {
      "text/html": [
       "<div>\n",
       "<table border=\"1\" class=\"dataframe\">\n",
       "  <thead>\n",
       "    <tr style=\"text-align: right;\">\n",
       "      <th></th>\n",
       "      <th>nvoAI1</th>\n",
       "      <th>nvoAI2</th>\n",
       "      <th>nvoDI1</th>\n",
       "    </tr>\n",
       "  </thead>\n",
       "  <tbody>\n",
       "    <tr>\n",
       "      <th>2015-11-15 08:40:21.102146</th>\n",
       "      <td>44.950001</td>\n",
       "      <td>NaN</td>\n",
       "      <td>NaN</td>\n",
       "    </tr>\n",
       "    <tr>\n",
       "      <th>2015-11-15 08:40:21.117771</th>\n",
       "      <td>44.950001</td>\n",
       "      <td>22.799999</td>\n",
       "      <td>NaN</td>\n",
       "    </tr>\n",
       "    <tr>\n",
       "      <th>2015-11-15 08:40:31.172206</th>\n",
       "      <td>44.950001</td>\n",
       "      <td>22.799999</td>\n",
       "      <td>active</td>\n",
       "    </tr>\n",
       "    <tr>\n",
       "      <th>2015-11-15 08:40:32.605017</th>\n",
       "      <td>44.869999</td>\n",
       "      <td>22.760000</td>\n",
       "      <td>active</td>\n",
       "    </tr>\n",
       "    <tr>\n",
       "      <th>2015-11-15 08:40:36.223253</th>\n",
       "      <td>44.869999</td>\n",
       "      <td>22.760000</td>\n",
       "      <td>active</td>\n",
       "    </tr>\n",
       "    <tr>\n",
       "      <th>2015-11-15 08:40:48.120203</th>\n",
       "      <td>44.740002</td>\n",
       "      <td>22.799999</td>\n",
       "      <td>active</td>\n",
       "    </tr>\n",
       "    <tr>\n",
       "      <th>2015-11-15 08:40:51.763943</th>\n",
       "      <td>44.740002</td>\n",
       "      <td>22.799999</td>\n",
       "      <td>active</td>\n",
       "    </tr>\n",
       "    <tr>\n",
       "      <th>2015-11-15 08:40:53.399209</th>\n",
       "      <td>44.740002</td>\n",
       "      <td>22.799999</td>\n",
       "      <td>active</td>\n",
       "    </tr>\n",
       "    <tr>\n",
       "      <th>2015-11-15 08:40:53.539834</th>\n",
       "      <td>44.740002</td>\n",
       "      <td>22.760000</td>\n",
       "      <td>active</td>\n",
       "    </tr>\n",
       "    <tr>\n",
       "      <th>2015-11-15 08:40:53.696084</th>\n",
       "      <td>44.740002</td>\n",
       "      <td>22.760000</td>\n",
       "      <td>active</td>\n",
       "    </tr>\n",
       "  </tbody>\n",
       "</table>\n",
       "</div>"
      ],
      "text/plain": [
       "                               nvoAI1     nvoAI2  nvoDI1\n",
       "2015-11-15 08:40:21.102146  44.950001        NaN     NaN\n",
       "2015-11-15 08:40:21.117771  44.950001  22.799999     NaN\n",
       "2015-11-15 08:40:31.172206  44.950001  22.799999  active\n",
       "2015-11-15 08:40:32.605017  44.869999  22.760000  active\n",
       "2015-11-15 08:40:36.223253  44.869999  22.760000  active\n",
       "2015-11-15 08:40:48.120203  44.740002  22.799999  active\n",
       "2015-11-15 08:40:51.763943  44.740002  22.799999  active\n",
       "2015-11-15 08:40:53.399209  44.740002  22.799999  active\n",
       "2015-11-15 08:40:53.539834  44.740002  22.760000  active\n",
       "2015-11-15 08:40:53.696084  44.740002  22.760000  active"
      ]
     },
     "execution_count": 6,
     "metadata": {},
     "output_type": "execute_result"
    }
   ],
   "source": [
    "# Create a table with multiple points\n",
    "\n",
    "lst = ['nvoAI1', 'nvoAI2', 'nvoDI1']\n",
    "\n",
    "fx.df(lst).fillna(method='ffill')"
   ]
  },
  {
   "cell_type": "code",
   "execution_count": 7,
   "metadata": {
    "collapsed": false,
    "scrolled": true
   },
   "outputs": [
    {
     "data": {
      "text/plain": [
       "<matplotlib.axes._subplots.AxesSubplot at 0x85f66a0>"
      ]
     },
     "execution_count": 7,
     "metadata": {},
     "output_type": "execute_result"
    },
    {
     "data": {
      "image/png": "[encoded data removed]",
      "text/plain": [
       "<matplotlib.figure.Figure at 0x52d27f0>"
      ]
     },
     "metadata": {},
     "output_type": "display_data"
    }
   ],
   "source": [
    "# Create a trend with multiple points using the DataFrame\n",
    "\n",
    "lst = ['nvoAI1', 'nvoAI2']\n",
    "\n",
    "\n",
    "fx.df(lst).resample('1min').plot(title='My title')"
   ]
  },
  {
   "cell_type": "code",
   "execution_count": 8,
   "metadata": {
    "collapsed": false
   },
   "outputs": [
    {
     "data": {
      "text/plain": [
       "<matplotlib.axes._subplots.AxesSubplot at 0x8d59978>"
      ]
     },
     "execution_count": 8,
     "metadata": {},
     "output_type": "execute_result"
    },
    {
     "data": {
      "image/png": "[encoded data removed]",
      "text/plain": [
       "<matplotlib.figure.Figure at 0x8d34b00>"
      ]
     },
     "metadata": {},
     "output_type": "display_data"
    }
   ],
   "source": [
    "fx.chart(lst, title='My title')"
   ]
  },
  {
   "cell_type": "code",
   "execution_count": 9,
   "metadata": {
    "collapsed": false,
    "scrolled": true
   },
   "outputs": [
    {
     "data": {
      "text/plain": [
       "2015-11-15 08:40:31.226769    Controller initialized\n",
       "2015-11-15 08:41:19.349162      New note to remember\n",
       "dtype: object"
      ]
     },
     "execution_count": 9,
     "metadata": {},
     "output_type": "execute_result"
    }
   ],
   "source": [
    "fx.notes = 'New note to remember'\n",
    "fx.notes"
   ]
  },
  {
   "cell_type": "code",
   "execution_count": 10,
   "metadata": {
    "collapsed": false
   },
   "outputs": [
    {
     "data": {
      "text/plain": [
       "FX14 0005"
      ]
     },
     "execution_count": 10,
     "metadata": {},
     "output_type": "execute_result"
    }
   ],
   "source": [
    "fx"
   ]
  },
  {
   "cell_type": "markdown",
   "metadata": {},
   "source": [
    "### Finding devices on a network"
   ]
  },
  {
   "cell_type": "code",
   "execution_count": null,
   "metadata": {
    "collapsed": false
   },
   "outputs": [],
   "source": [
    "bacnet.whois() # Note that this function is called automatically in ReadWriteScript\n",
    "\n",
    "# The result takes a few milliseconds to be processed... it can be used in the same cell."
   ]
  },
  {
   "cell_type": "markdown",
   "metadata": {},
   "source": [
    "### Using the bacnet object to read  or write objects from devices"
   ]
  },
  {
   "cell_type": "markdown",
   "metadata": {},
   "source": [
    "Accessing the list of object of a device can be done using the objectList property\n"
   ]
  },
  {
   "cell_type": "code",
   "execution_count": null,
   "metadata": {
    "collapsed": false
   },
   "outputs": [],
   "source": [
    "# Let's print the first 10 objects...\n",
    "bacnet.read('2:5 device 5 objectList')[:10]"
   ]
  },
  {
   "cell_type": "code",
   "execution_count": null,
   "metadata": {
    "collapsed": false
   },
   "outputs": [],
   "source": [
    "bacnet.readMultiple('2:5 analogInput 1 objectName description presentValue units')"
   ]
  },
  {
   "cell_type": "code",
   "execution_count": null,
   "metadata": {
    "collapsed": false
   },
   "outputs": [],
   "source": [
    "import time\n",
    "obj = '2:5 analogValue 41 presentValue'\n",
    "old_value = bacnet.read(obj)\n",
    "print('Old Value is : %s' % old_value)\n",
    "new_value = 120\n",
    "\n",
    "bacnet.write('%s %s' % (obj,new_value))\n",
    "print('New value is %s' % bacnet.read(obj))"
   ]
  },
  {
   "cell_type": "markdown",
   "metadata": {},
   "source": [
    "## Stopping the app"
   ]
  },
  {
   "cell_type": "code",
   "execution_count": null,
   "metadata": {
    "collapsed": false
   },
   "outputs": [],
   "source": [
    "bacnet.disconnect()"
   ]
  }
 ],
 "metadata": {
  "kernelspec": {
   "display_name": "Python 3",
   "language": "python",
   "name": "python3"
  },
  "language_info": {
   "codemirror_mode": {
    "name": "ipython",
    "version": 3
   },
   "file_extension": ".py",
   "mimetype": "text/x-python",
   "name": "python",
   "nbconvert_exporter": "python",
   "pygments_lexer": "ipython3",
   "version": "3.4.3"
  }
 },
 "nbformat": 4,
 "nbformat_minor": 0
}
