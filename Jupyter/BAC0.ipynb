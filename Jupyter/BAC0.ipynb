{
 "cells": [
  {
   "cell_type": "markdown",
   "metadata": {},
   "source": [
    "# BAC0\n",
    "\n",
    "BAC0 is a script module based on BACpypes to automate task using Bacnet/IP protocole.\n",
    "\n",
    "It's still at an early stage but will grow with time.\n",
    "\n",
    "## How to use\n",
    "\n",
    "First you must install the 2 modules\n",
    "- git clone https://github.com/ChristianTremblay/bacpypes-python3.git\n",
    "- git clone https://github.com/ChristianTremblay/bacnetScript.git\n",
    "\n",
    "Both are installed using python setup.py install command in the shell\n",
    "As you can see, it uses BACpypes-python3 which i a port from the official BACpypes Repo which is Python2 (http://bacpypes.sourceforge.net/)\n",
    "\n",
    "Note : All tests have been done in Windows 7 using Anaconda3 (http://continuum.io/downloads)"
   ]
  },
  {
   "cell_type": "markdown",
   "metadata": {},
   "source": [
    "## Import module"
   ]
  },
  {
   "cell_type": "code",
   "execution_count": 1,
   "metadata": {
    "collapsed": false
   },
   "outputs": [
    {
     "name": "stderr",
     "output_type": "stream",
     "text": [
      "DEBUG:BAC0.core.app.ScriptApplication.ScriptApplication:__init__ (<bacpypes.app.LocalDeviceObject object at 0x0000000005060FD0>, '192.168.210.63')\n",
      "DEBUG:BAC0.core.app.ScriptApplication.ScriptApplication:__init__ (<bacpypes.app.LocalDeviceObject object at 0x0000000005060FD0>, '192.168.210.63')\n",
      "DEBUG:BAC0.scripts.BasicScript:finally\n",
      "DEBUG:BAC0.core.functions.WhoisIAm.WhoisIAm:do_whois 'any'\n",
      "DEBUG:BAC0.core.functions.WhoisIAm.WhoisIAm:    - request: <bacpypes.apdu.WhoIsRequest(8) instance at 0x779ef28>\n",
      "DEBUG:BAC0.core.app.ScriptApplication.ScriptApplication:request <bacpypes.apdu.WhoIsRequest(8) instance at 0x779ef28>\n"
     ]
    },
    {
     "name": "stdout",
     "output_type": "stream",
     "text": [
      "Starting app...\n",
      "App started\n"
     ]
    },
    {
     "name": "stderr",
     "output_type": "stream",
     "text": [
      "DEBUG:BAC0.scripts.BasicScript:finally\n",
      "DEBUG:BAC0.core.functions.WhoisIAm.WhoisIAm:do_whois 'any'\n",
      "DEBUG:BAC0.core.functions.WhoisIAm.WhoisIAm:    - request: <bacpypes.apdu.WhoIsRequest(8) instance at 0x779ef28>\n",
      "DEBUG:BAC0.core.app.ScriptApplication.ScriptApplication:request <bacpypes.apdu.WhoIsRequest(8) instance at 0x779ef28>\n"
     ]
    },
    {
     "name": "stdout",
     "output_type": "stream",
     "text": [
      "Starting app...\n",
      "App started\n"
     ]
    },
    {
     "name": "stderr",
     "output_type": "stream",
     "text": [
      "DEBUG:BAC0.core.app.ScriptApplication.ScriptApplication:do_IAmRequest <bacpypes.apdu.IAmRequest(0) instance at 0x77eec50>\n",
      "DEBUG:BAC0.core.app.ScriptApplication.ScriptApplication:received broadcast from 192.168.210.253 (local:('192.168.210.63', 47808) | source:192.168.210.253)\n",
      "\n",
      "DEBUG:BAC0.core.app.ScriptApplication.ScriptApplication:do_IAmRequest <bacpypes.apdu.IAmRequest(0) instance at 0x77eec50>\n",
      "DEBUG:BAC0.core.app.ScriptApplication.ScriptApplication:received broadcast from 192.168.210.253 (local:('192.168.210.63', 47808) | source:192.168.210.253)\n",
      "\n",
      "DEBUG:BAC0.core.app.ScriptApplication.ScriptApplication:do_IAmRequest <bacpypes.apdu.IAmRequest(0) instance at 0x77eee48>\n",
      "DEBUG:BAC0.core.app.ScriptApplication.ScriptApplication:received broadcast from 2:5 (local:('192.168.210.63', 47808) | source:2:5)\n",
      "\n",
      "DEBUG:BAC0.core.app.ScriptApplication.ScriptApplication:do_IAmRequest <bacpypes.apdu.IAmRequest(0) instance at 0x77eee48>\n",
      "DEBUG:BAC0.core.app.ScriptApplication.ScriptApplication:received broadcast from 2:5 (local:('192.168.210.63', 47808) | source:2:5)\n",
      "\n"
     ]
    }
   ],
   "source": [
    "import BAC0\n",
    "\n",
    "# You will need to define your local IP address (which is in the same subnet than the devices you're communicating with.\n",
    "myIPAddr = '192.168.210.63'\n",
    "\n",
    "bacnet = BAC0.ReadWriteScript(localIPAddr = '192.168.210.63')\n",
    "\n",
    "# Wait for the app to start\n"
   ]
  },
  {
   "cell_type": "markdown",
   "metadata": {},
   "source": [
    "## Using the application"
   ]
  },
  {
   "cell_type": "markdown",
   "metadata": {},
   "source": [
    "The application is to be used to test bacnet devices. As it uses BACpypes, there's a lot of different functions that are available (whois, Iam, read, readMultiple, write, etc.) Actually, the basic scripts have been defined to be able to find devices, find points, read to points and write to points.\n",
    "\n",
    "If you ever want to stop the app and free the socket, you must use :\n",
    "\n",
    "**bacnet.stopApp()**\n",
    "\n",
    "If not, you will need to restart the kernel..."
   ]
  },
  {
   "cell_type": "markdown",
   "metadata": {},
   "source": [
    "### Finding devices on a network"
   ]
  },
  {
   "cell_type": "code",
   "execution_count": 2,
   "metadata": {
    "collapsed": false
   },
   "outputs": [
    {
     "name": "stderr",
     "output_type": "stream",
     "text": [
      "DEBUG:BAC0.core.functions.WhoisIAm.WhoisIAm:do_whois 'any'\n",
      "DEBUG:BAC0.core.functions.WhoisIAm.WhoisIAm:    - request: <bacpypes.apdu.WhoIsRequest(8) instance at 0x5060780>\n",
      "DEBUG:BAC0.core.app.ScriptApplication.ScriptApplication:request <bacpypes.apdu.WhoIsRequest(8) instance at 0x5060780>\n"
     ]
    },
    {
     "data": {
      "text/plain": [
       "defaultdict(<class 'int'>, {})"
      ]
     },
     "execution_count": 2,
     "metadata": {},
     "output_type": "execute_result"
    },
    {
     "name": "stderr",
     "output_type": "stream",
     "text": [
      "DEBUG:BAC0.core.functions.WhoisIAm.WhoisIAm:do_whois 'any'\n",
      "DEBUG:BAC0.core.functions.WhoisIAm.WhoisIAm:    - request: <bacpypes.apdu.WhoIsRequest(8) instance at 0x5060780>\n",
      "DEBUG:BAC0.core.app.ScriptApplication.ScriptApplication:request <bacpypes.apdu.WhoIsRequest(8) instance at 0x5060780>\n"
     ]
    },
    {
     "data": {
      "text/plain": [
       "defaultdict(<class 'int'>, {})"
      ]
     },
     "execution_count": 2,
     "metadata": {},
     "output_type": "execute_result"
    },
    {
     "name": "stderr",
     "output_type": "stream",
     "text": [
      "DEBUG:BAC0.core.app.ScriptApplication.ScriptApplication:do_IAmRequest <bacpypes.apdu.IAmRequest(0) instance at 0x77c3128>\n",
      "DEBUG:BAC0.core.app.ScriptApplication.ScriptApplication:received broadcast from 192.168.210.253 (local:('192.168.210.63', 47808) | source:192.168.210.253)\n",
      "\n",
      "DEBUG:BAC0.core.app.ScriptApplication.ScriptApplication:do_IAmRequest <bacpypes.apdu.IAmRequest(0) instance at 0x77c3128>\n",
      "DEBUG:BAC0.core.app.ScriptApplication.ScriptApplication:received broadcast from 192.168.210.253 (local:('192.168.210.63', 47808) | source:192.168.210.253)\n",
      "\n",
      "DEBUG:BAC0.core.app.ScriptApplication.ScriptApplication:do_IAmRequest <bacpypes.apdu.IAmRequest(0) instance at 0x77c3240>\n",
      "DEBUG:BAC0.core.app.ScriptApplication.ScriptApplication:received broadcast from 2:5 (local:('192.168.210.63', 47808) | source:2:5)\n",
      "\n",
      "DEBUG:BAC0.core.app.ScriptApplication.ScriptApplication:do_IAmRequest <bacpypes.apdu.IAmRequest(0) instance at 0x77c3240>\n",
      "DEBUG:BAC0.core.app.ScriptApplication.ScriptApplication:received broadcast from 2:5 (local:('192.168.210.63', 47808) | source:2:5)\n",
      "\n"
     ]
    }
   ],
   "source": [
    "bacnet.whois() # Note that this function is called automatically in ReadWriteScript\n",
    "\n",
    "# The result takes a few milliseconds to be processed... it can be used in the same cell."
   ]
  },
  {
   "cell_type": "code",
   "execution_count": 3,
   "metadata": {
    "collapsed": false
   },
   "outputs": [
    {
     "name": "stdout",
     "output_type": "stream",
     "text": [
      "('192.168.210.253', 210253)\n",
      "('2:5', 5)\n"
     ]
    }
   ],
   "source": [
    "# Result can be accessed to print with : \n",
    "for each in bacnet.discoveredDevices:\n",
    "    print(each)\n"
   ]
  },
  {
   "cell_type": "markdown",
   "metadata": {},
   "source": [
    "This may be not clear enough... what if we would want to know the name of the devices..."
   ]
  },
  {
   "cell_type": "code",
   "execution_count": 4,
   "metadata": {
    "collapsed": false
   },
   "outputs": [
    {
     "name": "stdout",
     "output_type": "stream",
     "text": [
      "==========================================\n",
      "Result of the Whois request\n",
      "==========================================\n",
      "Found device : BASRT-B009157 at address 192.168.210.253\n",
      "Found device : FX14 0005 at address 2:5\n"
     ]
    }
   ],
   "source": [
    "# Result can be accessed to print with : \n",
    "print('==========================================')\n",
    "print('Result of the Whois request')\n",
    "print('==========================================')\n",
    "for each in bacnet.discoveredDevices:\n",
    "    deviceName = (bacnet.read('%s device %s objectName' % (each[0], each[1])))\n",
    "    deviceAddr = each[0]\n",
    "    print('Found device : %s at address %s' % (deviceName, deviceAddr))"
   ]
  },
  {
   "cell_type": "markdown",
   "metadata": {},
   "source": [
    "### Read objects from devices"
   ]
  },
  {
   "cell_type": "markdown",
   "metadata": {},
   "source": [
    "Accessing the list of object of a device can be done using the objectList property\n"
   ]
  },
  {
   "cell_type": "code",
   "execution_count": 5,
   "metadata": {
    "collapsed": false
   },
   "outputs": [
    {
     "data": {
      "text/plain": [
       "[('file', 1),\n",
       " ('analogInput', 2),\n",
       " ('analogInput', 3),\n",
       " ('analogInput', 5),\n",
       " ('analogInput', 4),\n",
       " ('analogInput', 0),\n",
       " ('analogInput', 1),\n",
       " ('analogOutput', 0),\n",
       " ('analogValue', 28),\n",
       " ('analogValue', 29)]"
      ]
     },
     "execution_count": 5,
     "metadata": {},
     "output_type": "execute_result"
    }
   ],
   "source": [
    "# Let's print the first 10 objects...\n",
    "bacnet.read('2:5 device 5 objectList')[:10]"
   ]
  },
  {
   "cell_type": "code",
   "execution_count": 6,
   "metadata": {
    "collapsed": false
   },
   "outputs": [
    {
     "data": {
      "text/plain": [
       "['nvoAI2', 'nvoAI2', 22.760000228881836, 'degreesCelsius']"
      ]
     },
     "execution_count": 6,
     "metadata": {},
     "output_type": "execute_result"
    }
   ],
   "source": [
    "bacnet.readMultiple('2:5 analogInput 1 objectName description presentValue units')"
   ]
  },
  {
   "cell_type": "markdown",
   "metadata": {},
   "source": [
    "Doesn't tell you a lot of details... we will have to read values to get them. To accelerate the process, we'll use the special function \"discoverPoints\" which will return a tuple with a lot of details... and a pandas DataFrame, a good way to show table values."
   ]
  },
  {
   "cell_type": "code",
   "execution_count": 7,
   "metadata": {
    "collapsed": false,
    "scrolled": true
   },
   "outputs": [
    {
     "name": "stdout",
     "output_type": "stream",
     "text": [
      "Found FX14 0005\n"
     ]
    }
   ],
   "source": [
    "from BAC0.core.functions.discoverPoints import discoverPoints\n",
    "r = discoverPoints(bacnet,('2:5'),5)"
   ]
  },
  {
   "cell_type": "code",
   "execution_count": 8,
   "metadata": {
    "collapsed": false
   },
   "outputs": [
    {
     "data": {
      "text/html": [
       "<div style=\"max-height:1000px;max-width:1500px;overflow:auto;\">\n",
       "<table border=\"1\" class=\"dataframe\">\n",
       "  <thead>\n",
       "    <tr style=\"text-align: right;\">\n",
       "      <th></th>\n",
       "      <th>pointType</th>\n",
       "      <th>pointAddress</th>\n",
       "      <th>description</th>\n",
       "      <th>presentValue</th>\n",
       "      <th>units</th>\n",
       "    </tr>\n",
       "    <tr>\n",
       "      <th>pointName</th>\n",
       "      <th></th>\n",
       "      <th></th>\n",
       "      <th></th>\n",
       "      <th></th>\n",
       "      <th></th>\n",
       "    </tr>\n",
       "  </thead>\n",
       "  <tbody>\n",
       "    <tr>\n",
       "      <th>nvoAI3</th>\n",
       "      <td> analogInput</td>\n",
       "      <td> 2</td>\n",
       "      <td> nvoAI3</td>\n",
       "      <td>  13.68</td>\n",
       "      <td> degreesCelsius</td>\n",
       "    </tr>\n",
       "    <tr>\n",
       "      <th>nvoAI4</th>\n",
       "      <td> analogInput</td>\n",
       "      <td> 3</td>\n",
       "      <td> nvoAI4</td>\n",
       "      <td> 48.465</td>\n",
       "      <td>        percent</td>\n",
       "    </tr>\n",
       "    <tr>\n",
       "      <th>nvoAI6</th>\n",
       "      <td> analogInput</td>\n",
       "      <td> 5</td>\n",
       "      <td> nvoAI6</td>\n",
       "      <td>    393</td>\n",
       "      <td>    kilopascals</td>\n",
       "    </tr>\n",
       "    <tr>\n",
       "      <th>nvoAI5</th>\n",
       "      <td> analogInput</td>\n",
       "      <td> 4</td>\n",
       "      <td> nvoAI5</td>\n",
       "      <td>   1.85</td>\n",
       "      <td>        percent</td>\n",
       "    </tr>\n",
       "    <tr>\n",
       "      <th>nvoAI1</th>\n",
       "      <td> analogInput</td>\n",
       "      <td> 0</td>\n",
       "      <td> nvoAI1</td>\n",
       "      <td>  23.36</td>\n",
       "      <td> degreesCelsius</td>\n",
       "    </tr>\n",
       "  </tbody>\n",
       "</table>\n",
       "</div>"
      ],
      "text/plain": [
       "             pointType  pointAddress description presentValue           units\n",
       "pointName                                                                    \n",
       "nvoAI3     analogInput             2      nvoAI3        13.68  degreesCelsius\n",
       "nvoAI4     analogInput             3      nvoAI4       48.465         percent\n",
       "nvoAI6     analogInput             5      nvoAI6          393     kilopascals\n",
       "nvoAI5     analogInput             4      nvoAI5         1.85         percent\n",
       "nvoAI1     analogInput             0      nvoAI1        23.36  degreesCelsius"
      ]
     },
     "execution_count": 8,
     "metadata": {},
     "output_type": "execute_result"
    }
   ],
   "source": [
    "# r is now a tuple with device name, protocole services supported array, objectList and a DataFrame\n",
    "# Let's print the head of the DataFrame, you can see that variables have been read\n",
    "\n",
    "pointsTable = r[3]\n",
    "\n",
    "pointsTable.head()"
   ]
  },
  {
   "cell_type": "code",
   "execution_count": 9,
   "metadata": {
    "collapsed": false
   },
   "outputs": [
    {
     "name": "stdout",
     "output_type": "stream",
     "text": [
      "analogInput\n"
     ]
    }
   ],
   "source": [
    "print(pointsTable.ix['nvoAI3'].pointType)"
   ]
  },
  {
   "cell_type": "code",
   "execution_count": 10,
   "metadata": {
    "collapsed": false
   },
   "outputs": [
    {
     "data": {
      "text/plain": [
       "48.4900016784668"
      ]
     },
     "execution_count": 10,
     "metadata": {},
     "output_type": "execute_result"
    }
   ],
   "source": [
    "def readPointByName(name):\n",
    "    device = '2:5'\n",
    "    val = bacnet.read('%s %s %s presentValue' % (device,pointsTable.ix[name].pointType,str(pointsTable.ix[name].pointAddress)))\n",
    "    return val\n",
    "\n",
    "readPointByName('nvoAI4')"
   ]
  },
  {
   "cell_type": "markdown",
   "metadata": {},
   "source": [
    "## Write to points"
   ]
  },
  {
   "cell_type": "code",
   "execution_count": 2,
   "metadata": {
    "collapsed": false
   },
   "outputs": [
    {
     "name": "stdout",
     "output_type": "stream",
     "text": [
      "Old Value is : 120.0\n",
      "New value is 120.0\n"
     ]
    }
   ],
   "source": [
    "import time\n",
    "obj = '2:5 analogValue 41 presentValue'\n",
    "old_value = bacnet.read(obj)\n",
    "print('Old Value is : %s' % old_value)\n",
    "new_value = 120\n",
    "\n",
    "bacnet.write('%s %s' % (obj,new_value))\n",
    "print('New value is %s' % bacnet.read(obj))"
   ]
  },
  {
   "cell_type": "markdown",
   "metadata": {},
   "source": [
    "## Stopping the app"
   ]
  },
  {
   "cell_type": "code",
   "execution_count": 11,
   "metadata": {
    "collapsed": false
   },
   "outputs": [
    {
     "name": "stderr",
     "output_type": "stream",
     "text": [
      "DEBUG:bacpypes.core:stop\n"
     ]
    },
    {
     "name": "stdout",
     "output_type": "stream",
     "text": [
      "Stopping app\n",
      "App stopped\n"
     ]
    }
   ],
   "source": [
    "bacnet.stopApp()"
   ]
  },
  {
   "cell_type": "code",
   "execution_count": 2,
   "metadata": {
    "collapsed": false
   },
   "outputs": [],
   "source": [
    "task = BAC0.RecurringRead(bacnet,1,('2:5 analogInput 2 presentValue'),5)"
   ]
  },
  {
   "cell_type": "code",
   "execution_count": 1,
   "metadata": {
    "collapsed": true
   },
   "outputs": [],
   "source": [
    "point_list = [\n",
    "    ('2:5', 'analogInput', 1, 'presentValue'),\n",
    "    ('2:5', 'analogInput', 2, 'presentValue'),\n",
    "    ]\n"
   ]
  },
  {
   "cell_type": "code",
   "execution_count": 25,
   "metadata": {
    "collapsed": false
   },
   "outputs": [
    {
     "name": "stdout",
     "output_type": "stream",
     "text": [
      "Exiting Thread-2\n",
      "Starting Thread-1\n",
      "Starting Thread-2\n",
      "Result1 of Thread-1 : 23.020000457763672\n",
      "Result2 of Thread-1 : 12.739999771118164\n",
      "Result1 of Thread-2 : 48.63999938964844\n",
      "Result2 of Thread-2 : 1.850000023841858\n",
      "Result1 of Thread-1 : 23.059999465942383\n",
      "Result2 of Thread-1 : 12.729999542236328\n"
     ]
    }
   ],
   "source": [
    "from threading import Thread, Lock\n",
    "import time\n",
    "\n",
    "class repeat(Thread):\n",
    "    def __init__(self,threadID,name, req1, req2, lock):\n",
    "        Thread.__init__(self)\n",
    "        self.threadID = threadID\n",
    "        self.name = name\n",
    "        self.request1 = req1\n",
    "        self.request2 = req2\n",
    "        self.exitFlag = False\n",
    "        self.lock = lock\n",
    "    \n",
    "    def run(self):\n",
    "        # Get lock to synchronize threads\n",
    "        print(\"Starting \" + self.name)\n",
    "        #print_time(self.name)\n",
    "        self.do_it()\n",
    "        try:\n",
    "            self.lock.release()\n",
    "        except Exception:\n",
    "            pass\n",
    "        print(\"Exiting \" + self.name)\n",
    "    \n",
    "    def do_it(self):\n",
    "        #if self.started = True\n",
    "        while not self.exitFlag:\n",
    "            self.lock.acquire()\n",
    "            res1 = bacnet.read(self.request1)\n",
    "            print('Result1 of %s : %s' % (self.name,res1))\n",
    "            res2 = bacnet.read(self.request2)\n",
    "            print('Result2 of %s : %s' % (self.name,res2))\n",
    "            # Free lock to release next thread\n",
    "            self.lock.release()\n",
    "            time.sleep(5)\n",
    "\n",
    "threadLock = Lock()\n",
    "thread1 = repeat(1, \"Thread-1\",('2:5 analogInput 1 presentValue'),('2:5 analogInput 2 presentValue'),threadLock)\n",
    "thread2 = repeat(2, \"Thread-2\",('2:5 analogInput 3 presentValue'),('2:5 analogInput 4 presentValue'),threadLock)\n",
    "\n",
    "# Start new Threads\n",
    "thread1.start()\n",
    "thread2.start()\n",
    "    "
   ]
  },
  {
   "cell_type": "code",
   "execution_count": 26,
   "metadata": {
    "collapsed": false
   },
   "outputs": [
    {
     "name": "stdout",
     "output_type": "stream",
     "text": [
      "Result1 of Thread-2 : 48.63999938964844\n",
      "Result2 of Thread-2 : 1.850000023841858\n",
      "Exiting Thread-1\n",
      "Result1 of Thread-2 : 48.650001525878906\n"
     ]
    }
   ],
   "source": [
    "thread1.exitFlag = True"
   ]
  },
  {
   "cell_type": "code",
   "execution_count": 27,
   "metadata": {
    "collapsed": false
   },
   "outputs": [
    {
     "name": "stdout",
     "output_type": "stream",
     "text": [
      "Result2 of Thread-2 : 1.850000023841858\n"
     ]
    }
   ],
   "source": [
    "thread2.exitFlag = True"
   ]
  },
  {
   "cell_type": "code",
   "execution_count": 28,
   "metadata": {
    "collapsed": false
   },
   "outputs": [
    {
     "name": "stdout",
     "output_type": "stream",
     "text": [
      "Exiting Thread-2\n",
      "Starting Thread-3\n",
      "Result1 of Thread-3 : 357.8999938964844\n",
      "Result2 of Thread-3 : 23.020000457763672\n",
      "Result1 of Thread-3 : 357.8999938964844\n",
      "Result2 of Thread-3 : 23.020000457763672\n"
     ]
    }
   ],
   "source": [
    "thread3 = repeat(3, \"Thread-3\",('2:5 analogInput 5 presentValue'),('2:5 analogInput 1 presentValue'),threadLock)\n",
    "thread3.start()"
   ]
  },
  {
   "cell_type": "code",
   "execution_count": 29,
   "metadata": {
    "collapsed": false
   },
   "outputs": [],
   "source": [
    "thread3.exitFlag = True"
   ]
  },
  {
   "cell_type": "code",
   "execution_count": null,
   "metadata": {
    "collapsed": true
   },
   "outputs": [],
   "source": []
  }
 ],
 "metadata": {
  "kernelspec": {
   "display_name": "Python 3",
   "language": "python",
   "name": "python3"
  },
  "language_info": {
   "codemirror_mode": {
    "name": "ipython",
    "version": 3
   },
   "file_extension": ".py",
   "mimetype": "text/x-python",
   "name": "python",
   "nbconvert_exporter": "python",
   "pygments_lexer": "ipython3",
   "version": "3.4.3"
  }
 },
 "nbformat": 4,
 "nbformat_minor": 0
}
