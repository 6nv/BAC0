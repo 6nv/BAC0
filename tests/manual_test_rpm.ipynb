{
 "metadata": {
  "language_info": {
   "codemirror_mode": {
    "name": "ipython",
    "version": 3
   },
   "file_extension": ".py",
   "mimetype": "text/x-python",
   "name": "python",
   "nbconvert_exporter": "python",
   "pygments_lexer": "ipython3",
   "version": "3.7.7-final"
  },
  "orig_nbformat": 2,
  "kernelspec": {
   "name": "python3",
   "display_name": "Python 3"
  }
 },
 "nbformat": 4,
 "nbformat_minor": 2,
 "cells": [
  {
   "source": [
    "# Trying to build a better function to handle RPM\n",
    "\n",
    "Shoudl take a dict of things...\n"
   ],
   "cell_type": "markdown",
   "metadata": {}
  },
  {
   "cell_type": "code",
   "execution_count": 16,
   "metadata": {},
   "outputs": [],
   "source": [
    "from bacpypes.pdu import Address\n",
    "from bacpypes.object import get_object_class, get_datatype\n",
    "from bacpypes.apdu import (\n",
    "    PropertyReference,\n",
    "    ReadAccessSpecification,\n",
    "    ReadPropertyRequest,\n",
    "    ReadPropertyMultipleRequest,\n",
    "    RejectReason,\n",
    "    AbortReason,\n",
    "    RejectPDU,\n",
    "    AbortPDU,\n",
    ")\n",
    "from bacpypes.basetypes import PropertyIdentifier\n"
   ]
  },
  {
   "source": [
    "\n",
    "    _rpm = {'11:2': [(\"analogInput\",1),(\"analogInput\",2),(\"analogInput\",1, \"units\", \"description\")]\n",
    "    }\n",
    "\n",
    "    _rpm = {'address': '11:2',\n",
    "            'objects': {'analogInput:1': ['presentValue', 'description', 'unit', 'objectList@idx:0'],\n",
    "                        'analogInput:2': ['presentValue', 'description', 'unit', 'objectList@idx:0'],\n",
    "            },\n",
    "            'vendor_id': 842,\n",
    "    }\n"
   ],
   "cell_type": "code",
   "metadata": {},
   "execution_count": 17,
   "outputs": []
  },
  {
   "cell_type": "code",
   "execution_count": 18,
   "metadata": {},
   "outputs": [
    {
     "output_type": "execute_result",
     "data": {
      "text/plain": [
       "{'address': '11:2',\n",
       " 'objects': {'analogInput:1': ['presentValue',\n",
       "   'description',\n",
       "   'unit',\n",
       "   'objectList@idx:0'],\n",
       "  'analogInput:2': ['presentValue',\n",
       "   'description',\n",
       "   'unit',\n",
       "   'objectList@idx:0']},\n",
       " 'vendor_id': 842}"
      ]
     },
     "metadata": {},
     "execution_count": 18
    }
   ],
   "source": [
    "_rpm"
   ]
  },
  {
   "cell_type": "code",
   "execution_count": 35,
   "metadata": {},
   "outputs": [],
   "source": [
    "\n",
    "def build_rpm_request_from_dict(request_dict):\n",
    "    \"\"\"\n",
    "    Read property multiple allow to read a lot of properties with only one request\n",
    "    The existing RPM function is made using a string that must be created using bacpypes \n",
    "    console style and is hard to automate.\n",
    "\n",
    "    This new version will be an attempt to improve that::\n",
    "\n",
    "        _rpm = {'address': '11:2',\n",
    "            'objects': {'analogInput:1': ['presentValue', 'description', 'unit', 'objectList@idx:0'],\n",
    "                        'analogInput:2': ['presentValue', 'description', 'unit', 'objectList@idx:0'],\n",
    "            },\n",
    "            vendor_id: 842\n",
    "            }\n",
    "\n",
    "    \"\"\"\n",
    "    vendor_id = 842\n",
    "    addr = request_dict['address']\n",
    "    objects = request_dict['objects']\n",
    "    if 'vendor_id' in request_dict.keys():\n",
    "        vendor_id = int(request_dict['vendor_id'])\n",
    "\n",
    "    read_access_spec_list = []\n",
    "    \n",
    "    for obj, list_of_properties in objects.items():\n",
    "        obj_type, obj_instance = obj.split(':')\n",
    "        obj_type = validate_object_type(obj_type, vendor_id=vendor_id)\n",
    "        obj_instance = int(obj_instance)\n",
    "        property_reference_list = build_property_reference_list(obj_type, list_of_properties)\n",
    "        read_acces_spec = build_read_access_spec(obj_type, obj_instance, property_reference_list)\n",
    "        read_access_spec_list.append(read_acces_spec)\n",
    "\n",
    "    if not read_access_spec_list:\n",
    "        raise RuntimeError(\"at least one read access specification required\")\n",
    "\n",
    "    # build the request\n",
    "    request = ReadPropertyMultipleRequest(\n",
    "        listOfReadAccessSpecs=read_access_spec_list\n",
    "    )\n",
    "    request.pduDestination = Address(addr)\n",
    "\n",
    "    return request\n",
    "\n",
    "\n",
    "def validate_object_type(obj_type, vendor_id=842):\n",
    "    if obj_type.isdigit():\n",
    "        obj_type = int(obj_type)\n",
    "    elif \"@obj_\" in obj_type:\n",
    "        obj_type = int(obj_type.split(\"_\")[1])\n",
    "    elif not get_object_class(obj_type, vendor_id=vendor_id):\n",
    "        raise ValueError(\"Unknown object type : {}\".format(obj_type))\n",
    "    return obj_type\n",
    "\n",
    "\n",
    "def build_read_access_spec(obj_type, obj_instance, property_reference_list):\n",
    "    return ReadAccessSpecification(\n",
    "                objectIdentifier=(obj_type, obj_instance),\n",
    "                listOfPropertyReferences=property_reference_list,\n",
    "            )\n",
    "\n",
    "def build_property_reference_list(obj_type, list_of_properties):\n",
    "    property_reference_list = []\n",
    "    for prop in list_of_properties:\n",
    "        idx = None\n",
    "        if \"@idx:\" in prop:\n",
    "            prop, idx = prop.split('@idx:')\n",
    "        prop_id = validate_property_id(obj_type, prop)\n",
    "        prop_reference = PropertyReference(propertyIdentifier=prop_id)\n",
    "        if idx:\n",
    "            prop_reference.propertyArrayIndex = int(idx)\n",
    "        property_reference_list.append(prop_reference)\n",
    "    return property_reference_list\n",
    "\n",
    "def validate_property_id(obj_type, prop_id):\n",
    "    if prop_id in PropertyIdentifier.enumerations:\n",
    "        if prop_id in (\n",
    "                    \"all\",\n",
    "                    \"required\",\n",
    "                    \"optional\",\n",
    "                    \"objectName\",\n",
    "                    \"objectType\",\n",
    "                    \"objectIdentifier\",\n",
    "                    \"polarity\",\n",
    "                ): \n",
    "                return prop_id\n",
    "        elif validate_datatype(obj_type, prop_id):       \n",
    "            return prop_id  \n",
    "        else:\n",
    "            raise ValueError(\"invalid property for object type : {} | {}\".format(obj_type, prop_id))\n",
    "    elif \"@prop_\" in prop_id:\n",
    "        return int(prop_id.split(\"_\")[1])\n",
    "    #elif \"@obj_\" in prop_id:\n",
    "    else:\n",
    "        raise ValueError('{} is an invalid property for {}'.format(prop_id, obj_type))\n",
    "\n",
    "\n",
    "def validate_datatype(obj_type, prop_id, vendor_id=842):\n",
    "    return get_datatype(obj_type, prop_id, vendor_id=vendor_id) if not None else False\n"
   ]
  },
  {
   "cell_type": "code",
   "execution_count": 36,
   "metadata": {},
   "outputs": [],
   "source": [
    "_rpm = {'address': '11:2',\n",
    "            'objects': {'analogInput:1': ['presentValue', 'description', 'units', 'eventMessageTexts@idx:0'],\n",
    "                        'analogInput:2': ['presentValue', 'description', 'units', 'eventMessageTexts@idx:0'],\n",
    "            }\n",
    "}\n",
    "\n",
    "rpm = build_rpm_request(_rpm)"
   ]
  },
  {
   "cell_type": "code",
   "execution_count": 37,
   "metadata": {},
   "outputs": [
    {
     "output_type": "stream",
     "name": "stdout",
     "text": [
      "    pduDestination = <Address 11:2>\n    pduExpectingReply = 1\n    pduNetworkPriority = 0\n    apduType = 0\n    apduService = 14\n    listOfReadAccessSpecs\n        [0]            objectIdentifier = ('analogInput', 1)\n            listOfPropertyReferences\n                [0]                    propertyIdentifier = 'presentValue'\n                [1]                    propertyIdentifier = 'description'\n                [2]                    propertyIdentifier = 'units'\n                [3]                    propertyIdentifier = 'eventMessageTexts'\n                    propertyArrayIndex = 0\n        [1]            objectIdentifier = ('analogInput', 2)\n            listOfPropertyReferences\n                [0]                    propertyIdentifier = 'presentValue'\n                [1]                    propertyIdentifier = 'description'\n                [2]                    propertyIdentifier = 'units'\n                [3]                    propertyIdentifier = 'eventMessageTexts'\n                    propertyArrayIndex = 0\n    pduData = x''\n"
     ]
    }
   ],
   "source": [
    "rpm.debug_contents()"
   ]
  },
  {
   "cell_type": "code",
   "execution_count": 1,
   "metadata": {},
   "outputs": [
    {
     "output_type": "stream",
     "name": "stdout",
     "text": [
      "2020-11-08 20:37:03,777 - INFO    | Starting BAC0 version 20.11.04dev (Lite)\n",
      "2020-11-08 20:37:03,778 - INFO    | Use BAC0.log_level to adjust verbosity of the app.\n",
      "2020-11-08 20:37:03,779 - INFO    | Ex. BAC0.log_level('silence') or BAC0.log_level('error')\n",
      "2020-11-08 20:37:03,780 - INFO    | Starting TaskManager\n",
      "2020-11-08 20:37:03,906 - INFO    | Using ip : 192.168.211.54\n",
      "2020-11-08 20:37:03,908 - INFO    | Starting app...\n",
      "2020-11-08 20:37:03,910 - INFO    | BAC0 started\n",
      "2020-11-08 20:37:03,911 - INFO    | Registered as Simple BACnet/IP App\n",
      "2020-11-08 20:37:03,943 - INFO    | Update Local COV Task started\n"
     ]
    },
    {
     "output_type": "execute_result",
     "data": {
      "text/plain": [
       "{('analogInput', 1094): [('presentValue', 4.233697891235352),\n",
       "  ('statusFlags', [0, 0, 0, 0]),\n",
       "  ('units', 'pascals'),\n",
       "  ('description', 'Discharge Air Velocity Pressure')],\n",
       " ('analogValue', 4410): [('presentValue', 0.005016503389924765),\n",
       "  ('statusFlags', [0, 0, 1, 0]),\n",
       "  ('units', 'percent'),\n",
       "  ('description', '')]}"
      ]
     },
     "metadata": {},
     "execution_count": 1
    }
   ],
   "source": [
    "import BAC0\n",
    "bacnet = BAC0.lite()\n",
    "\n"
   ]
  },
  {
   "cell_type": "code",
   "execution_count": 2,
   "metadata": {},
   "outputs": [
    {
     "output_type": "execute_result",
     "data": {
      "text/plain": [
       "{('analogInput', 1094): [('objectName', 'DA-VP'),\n",
       "  ('presentValue', 4.1766886711120605),\n",
       "  ('statusFlags', [0, 0, 0, 0]),\n",
       "  ('units', 'pascals'),\n",
       "  ('description', 'Discharge Air Velocity Pressure')],\n",
       " ('analogValue', 4410): [('objectName', 'SAFLOW-ABSEFFORT'),\n",
       "  ('presentValue', 0.004353651311248541),\n",
       "  ('statusFlags', [0, 0, 1, 0]),\n",
       "  ('units', 'percent'),\n",
       "  ('description', '')]}"
      ]
     },
     "metadata": {},
     "execution_count": 2
    }
   ],
   "source": [
    "_rpm = {'address': '303:9', 'objects': {'analogInput:1094': ['objectName', 'presentValue', 'statusFlags', 'units','description'], 'analogValue:4410': ['objectName', 'presentValue', 'statusFlags', 'units', 'description']}}\n",
    "\n",
    "bacnet.readMultiple('303:9', request_dict=_rpm)"
   ]
  },
  {
   "cell_type": "code",
   "execution_count": 40,
   "metadata": {},
   "outputs": [
    {
     "output_type": "error",
     "ename": "ValueError",
     "evalue": " description is an invalid property for analogInput",
     "traceback": [
      "\u001b[1;31m---------------------------------------------------------------------------\u001b[0m",
      "\u001b[1;31mValueError\u001b[0m                                Traceback (most recent call last)",
      "\u001b[1;32m<ipython-input-40-7719671e5b35>\u001b[0m in \u001b[0;36m<module>\u001b[1;34m\u001b[0m\n\u001b[1;32m----> 1\u001b[1;33m \u001b[0mbuild_rpm_request_from_dict\u001b[0m\u001b[1;33m(\u001b[0m\u001b[0m_rpm\u001b[0m\u001b[1;33m)\u001b[0m\u001b[1;33m\u001b[0m\u001b[1;33m\u001b[0m\u001b[0m\n\u001b[0m",
      "\u001b[1;32m<ipython-input-35-c8823ec90444>\u001b[0m in \u001b[0;36mbuild_rpm_request_from_dict\u001b[1;34m(request_dict)\u001b[0m\n\u001b[0;32m     27\u001b[0m         \u001b[0mobj_type\u001b[0m \u001b[1;33m=\u001b[0m \u001b[0mvalidate_object_type\u001b[0m\u001b[1;33m(\u001b[0m\u001b[0mobj_type\u001b[0m\u001b[1;33m,\u001b[0m \u001b[0mvendor_id\u001b[0m\u001b[1;33m=\u001b[0m\u001b[0mvendor_id\u001b[0m\u001b[1;33m)\u001b[0m\u001b[1;33m\u001b[0m\u001b[1;33m\u001b[0m\u001b[0m\n\u001b[0;32m     28\u001b[0m         \u001b[0mobj_instance\u001b[0m \u001b[1;33m=\u001b[0m \u001b[0mint\u001b[0m\u001b[1;33m(\u001b[0m\u001b[0mobj_instance\u001b[0m\u001b[1;33m)\u001b[0m\u001b[1;33m\u001b[0m\u001b[1;33m\u001b[0m\u001b[0m\n\u001b[1;32m---> 29\u001b[1;33m         \u001b[0mproperty_reference_list\u001b[0m \u001b[1;33m=\u001b[0m \u001b[0mbuild_property_reference_list\u001b[0m\u001b[1;33m(\u001b[0m\u001b[0mobj_type\u001b[0m\u001b[1;33m,\u001b[0m \u001b[0mlist_of_properties\u001b[0m\u001b[1;33m)\u001b[0m\u001b[1;33m\u001b[0m\u001b[1;33m\u001b[0m\u001b[0m\n\u001b[0m\u001b[0;32m     30\u001b[0m         \u001b[0mread_acces_spec\u001b[0m \u001b[1;33m=\u001b[0m \u001b[0mbuild_read_access_spec\u001b[0m\u001b[1;33m(\u001b[0m\u001b[0mobj_type\u001b[0m\u001b[1;33m,\u001b[0m \u001b[0mobj_instance\u001b[0m\u001b[1;33m,\u001b[0m \u001b[0mproperty_reference_list\u001b[0m\u001b[1;33m)\u001b[0m\u001b[1;33m\u001b[0m\u001b[1;33m\u001b[0m\u001b[0m\n\u001b[0;32m     31\u001b[0m         \u001b[0mread_access_spec_list\u001b[0m\u001b[1;33m.\u001b[0m\u001b[0mappend\u001b[0m\u001b[1;33m(\u001b[0m\u001b[0mread_acces_spec\u001b[0m\u001b[1;33m)\u001b[0m\u001b[1;33m\u001b[0m\u001b[1;33m\u001b[0m\u001b[0m\n",
      "\u001b[1;32m<ipython-input-35-c8823ec90444>\u001b[0m in \u001b[0;36mbuild_property_reference_list\u001b[1;34m(obj_type, list_of_properties)\u001b[0m\n\u001b[0;32m     65\u001b[0m         \u001b[1;32mif\u001b[0m \u001b[1;34m\"@idx:\"\u001b[0m \u001b[1;32min\u001b[0m \u001b[0mprop\u001b[0m\u001b[1;33m:\u001b[0m\u001b[1;33m\u001b[0m\u001b[1;33m\u001b[0m\u001b[0m\n\u001b[0;32m     66\u001b[0m             \u001b[0mprop\u001b[0m\u001b[1;33m,\u001b[0m \u001b[0midx\u001b[0m \u001b[1;33m=\u001b[0m \u001b[0mprop\u001b[0m\u001b[1;33m.\u001b[0m\u001b[0msplit\u001b[0m\u001b[1;33m(\u001b[0m\u001b[1;34m'@idx:'\u001b[0m\u001b[1;33m)\u001b[0m\u001b[1;33m\u001b[0m\u001b[1;33m\u001b[0m\u001b[0m\n\u001b[1;32m---> 67\u001b[1;33m         \u001b[0mprop_id\u001b[0m \u001b[1;33m=\u001b[0m \u001b[0mvalidate_property_id\u001b[0m\u001b[1;33m(\u001b[0m\u001b[0mobj_type\u001b[0m\u001b[1;33m,\u001b[0m \u001b[0mprop\u001b[0m\u001b[1;33m)\u001b[0m\u001b[1;33m\u001b[0m\u001b[1;33m\u001b[0m\u001b[0m\n\u001b[0m\u001b[0;32m     68\u001b[0m         \u001b[0mprop_reference\u001b[0m \u001b[1;33m=\u001b[0m \u001b[0mPropertyReference\u001b[0m\u001b[1;33m(\u001b[0m\u001b[0mpropertyIdentifier\u001b[0m\u001b[1;33m=\u001b[0m\u001b[0mprop_id\u001b[0m\u001b[1;33m)\u001b[0m\u001b[1;33m\u001b[0m\u001b[1;33m\u001b[0m\u001b[0m\n\u001b[0;32m     69\u001b[0m         \u001b[1;32mif\u001b[0m \u001b[0midx\u001b[0m\u001b[1;33m:\u001b[0m\u001b[1;33m\u001b[0m\u001b[1;33m\u001b[0m\u001b[0m\n",
      "\u001b[1;32m<ipython-input-35-c8823ec90444>\u001b[0m in \u001b[0;36mvalidate_property_id\u001b[1;34m(obj_type, prop_id)\u001b[0m\n\u001b[0;32m     92\u001b[0m     \u001b[1;31m#elif \"@obj_\" in prop_id:\u001b[0m\u001b[1;33m\u001b[0m\u001b[1;33m\u001b[0m\u001b[1;33m\u001b[0m\u001b[0m\n\u001b[0;32m     93\u001b[0m     \u001b[1;32melse\u001b[0m\u001b[1;33m:\u001b[0m\u001b[1;33m\u001b[0m\u001b[1;33m\u001b[0m\u001b[0m\n\u001b[1;32m---> 94\u001b[1;33m         \u001b[1;32mraise\u001b[0m \u001b[0mValueError\u001b[0m\u001b[1;33m(\u001b[0m\u001b[1;34m'{} is an invalid property for {}'\u001b[0m\u001b[1;33m.\u001b[0m\u001b[0mformat\u001b[0m\u001b[1;33m(\u001b[0m\u001b[0mprop_id\u001b[0m\u001b[1;33m,\u001b[0m \u001b[0mobj_type\u001b[0m\u001b[1;33m)\u001b[0m\u001b[1;33m)\u001b[0m\u001b[1;33m\u001b[0m\u001b[1;33m\u001b[0m\u001b[0m\n\u001b[0m\u001b[0;32m     95\u001b[0m \u001b[1;33m\u001b[0m\u001b[0m\n\u001b[0;32m     96\u001b[0m \u001b[1;33m\u001b[0m\u001b[0m\n",
      "\u001b[1;31mValueError\u001b[0m:  description is an invalid property for analogInput"
     ]
    }
   ],
   "source": [
    "build_rpm_request_from_dict(_rpm)"
   ]
  },
  {
   "cell_type": "code",
   "execution_count": 1,
   "metadata": {},
   "outputs": [
    {
     "output_type": "execute_result",
     "data": {
      "text/plain": [
       "range(0, 129)"
      ]
     },
     "metadata": {},
     "execution_count": 1
    }
   ],
   "source": [
    "range(0,129)"
   ]
  },
  {
   "cell_type": "code",
   "execution_count": 2,
   "metadata": {},
   "outputs": [
    {
     "output_type": "execute_result",
     "data": {
      "text/plain": [
       "{'address': '11:2',\n",
       " 'objects': {'analogInput:0': ['presentValue'],\n",
       "  'analogInput:1': ['presentValue'],\n",
       "  'analogInput:2': ['presentValue'],\n",
       "  'analogInput:3': ['presentValue'],\n",
       "  'analogInput:4': ['presentValue'],\n",
       "  'analogInput:5': ['presentValue'],\n",
       "  'analogInput:6': ['presentValue'],\n",
       "  'analogInput:7': ['presentValue'],\n",
       "  'analogInput:8': ['presentValue'],\n",
       "  'analogInput:9': ['presentValue'],\n",
       "  'analogInput:10': ['presentValue'],\n",
       "  'analogInput:11': ['presentValue'],\n",
       "  'analogInput:12': ['presentValue'],\n",
       "  'analogInput:13': ['presentValue'],\n",
       "  'analogInput:14': ['presentValue'],\n",
       "  'analogInput:15': ['presentValue'],\n",
       "  'analogInput:16': ['presentValue'],\n",
       "  'analogInput:17': ['presentValue'],\n",
       "  'analogInput:18': ['presentValue'],\n",
       "  'analogInput:19': ['presentValue'],\n",
       "  'analogInput:20': ['presentValue'],\n",
       "  'analogInput:21': ['presentValue'],\n",
       "  'analogInput:22': ['presentValue'],\n",
       "  'analogInput:23': ['presentValue'],\n",
       "  'analogInput:24': ['presentValue'],\n",
       "  'analogInput:25': ['presentValue'],\n",
       "  'analogInput:26': ['presentValue'],\n",
       "  'analogInput:27': ['presentValue'],\n",
       "  'analogInput:28': ['presentValue'],\n",
       "  'analogInput:29': ['presentValue'],\n",
       "  'analogInput:30': ['presentValue'],\n",
       "  'analogInput:31': ['presentValue'],\n",
       "  'analogInput:32': ['presentValue'],\n",
       "  'analogInput:33': ['presentValue'],\n",
       "  'analogInput:34': ['presentValue'],\n",
       "  'analogInput:35': ['presentValue'],\n",
       "  'analogInput:36': ['presentValue'],\n",
       "  'analogInput:37': ['presentValue'],\n",
       "  'analogInput:38': ['presentValue'],\n",
       "  'analogInput:39': ['presentValue'],\n",
       "  'analogInput:40': ['presentValue'],\n",
       "  'analogInput:41': ['presentValue'],\n",
       "  'analogInput:42': ['presentValue'],\n",
       "  'analogInput:43': ['presentValue'],\n",
       "  'analogInput:44': ['presentValue'],\n",
       "  'analogInput:45': ['presentValue'],\n",
       "  'analogInput:46': ['presentValue'],\n",
       "  'analogInput:47': ['presentValue'],\n",
       "  'analogInput:48': ['presentValue'],\n",
       "  'analogInput:49': ['presentValue'],\n",
       "  'analogInput:50': ['presentValue'],\n",
       "  'analogInput:51': ['presentValue'],\n",
       "  'analogInput:52': ['presentValue'],\n",
       "  'analogInput:53': ['presentValue'],\n",
       "  'analogInput:54': ['presentValue'],\n",
       "  'analogInput:55': ['presentValue'],\n",
       "  'analogInput:56': ['presentValue'],\n",
       "  'analogInput:57': ['presentValue'],\n",
       "  'analogInput:58': ['presentValue'],\n",
       "  'analogInput:59': ['presentValue'],\n",
       "  'analogInput:60': ['presentValue'],\n",
       "  'analogInput:61': ['presentValue'],\n",
       "  'analogInput:62': ['presentValue'],\n",
       "  'analogInput:63': ['presentValue'],\n",
       "  'analogInput:64': ['presentValue'],\n",
       "  'analogInput:65': ['presentValue'],\n",
       "  'analogInput:66': ['presentValue'],\n",
       "  'analogInput:67': ['presentValue'],\n",
       "  'analogInput:68': ['presentValue'],\n",
       "  'analogInput:69': ['presentValue'],\n",
       "  'analogInput:70': ['presentValue'],\n",
       "  'analogInput:71': ['presentValue'],\n",
       "  'analogInput:72': ['presentValue'],\n",
       "  'analogInput:73': ['presentValue'],\n",
       "  'analogInput:74': ['presentValue'],\n",
       "  'analogInput:75': ['presentValue'],\n",
       "  'analogInput:76': ['presentValue'],\n",
       "  'analogInput:77': ['presentValue'],\n",
       "  'analogInput:78': ['presentValue'],\n",
       "  'analogInput:79': ['presentValue'],\n",
       "  'analogInput:80': ['presentValue'],\n",
       "  'analogInput:81': ['presentValue'],\n",
       "  'analogInput:82': ['presentValue'],\n",
       "  'analogInput:83': ['presentValue'],\n",
       "  'analogInput:84': ['presentValue'],\n",
       "  'analogInput:85': ['presentValue'],\n",
       "  'analogInput:86': ['presentValue'],\n",
       "  'analogInput:87': ['presentValue'],\n",
       "  'analogInput:88': ['presentValue'],\n",
       "  'analogInput:89': ['presentValue'],\n",
       "  'analogInput:90': ['presentValue'],\n",
       "  'analogInput:91': ['presentValue'],\n",
       "  'analogInput:92': ['presentValue'],\n",
       "  'analogInput:93': ['presentValue'],\n",
       "  'analogInput:94': ['presentValue'],\n",
       "  'analogInput:95': ['presentValue'],\n",
       "  'analogInput:96': ['presentValue'],\n",
       "  'analogInput:97': ['presentValue'],\n",
       "  'analogInput:98': ['presentValue'],\n",
       "  'analogInput:99': ['presentValue'],\n",
       "  'analogInput:100': ['presentValue'],\n",
       "  'analogInput:101': ['presentValue'],\n",
       "  'analogInput:102': ['presentValue'],\n",
       "  'analogInput:103': ['presentValue'],\n",
       "  'analogInput:104': ['presentValue'],\n",
       "  'analogInput:105': ['presentValue'],\n",
       "  'analogInput:106': ['presentValue'],\n",
       "  'analogInput:107': ['presentValue'],\n",
       "  'analogInput:108': ['presentValue'],\n",
       "  'analogInput:109': ['presentValue'],\n",
       "  'analogInput:110': ['presentValue'],\n",
       "  'analogInput:111': ['presentValue'],\n",
       "  'analogInput:112': ['presentValue'],\n",
       "  'analogInput:113': ['presentValue'],\n",
       "  'analogInput:114': ['presentValue'],\n",
       "  'analogInput:115': ['presentValue'],\n",
       "  'analogInput:116': ['presentValue'],\n",
       "  'analogInput:117': ['presentValue'],\n",
       "  'analogInput:118': ['presentValue'],\n",
       "  'analogInput:119': ['presentValue'],\n",
       "  'analogInput:120': ['presentValue'],\n",
       "  'analogInput:121': ['presentValue'],\n",
       "  'analogInput:122': ['presentValue'],\n",
       "  'analogInput:123': ['presentValue'],\n",
       "  'analogInput:124': ['presentValue'],\n",
       "  'analogInput:125': ['presentValue'],\n",
       "  'analogInput:126': ['presentValue'],\n",
       "  'analogInput:127': ['presentValue'],\n",
       "  'analogInput:128': ['presentValue']}}"
      ]
     },
     "metadata": {},
     "execution_count": 2
    }
   ],
   "source": [
    "req = {}\n",
    "req['address'] = '11:2'\n",
    "req['objects'] = {}\n",
    "\n",
    "for each in range(0,129):\n",
    "    req['objects']['analogInput:{}'.format(each)] = ['presentValue']\n",
    "req"
   ]
  },
  {
   "cell_type": "code",
   "execution_count": null,
   "metadata": {},
   "outputs": [],
   "source": []
  }
 ]
}