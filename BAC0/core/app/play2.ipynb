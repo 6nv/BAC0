{
 "cells": [
  {
   "cell_type": "code",
   "execution_count": 1,
   "metadata": {},
   "outputs": [
    {
     "name": "stdout",
     "output_type": "stream",
     "text": [
      "2024-01-16 23:35:35,423 - INFO    | Starting BAC0 version 2024 (Lite)\n",
      "2024-01-16 23:35:35,423 - INFO    | Use BAC0.log_level to adjust verbosity of the app.\n",
      "2024-01-16 23:35:35,424 - INFO    | Ex. BAC0.log_level('silence') or BAC0.log_level('error')\n",
      "2024-01-16 23:35:35,489 - WARNING | Netifaces not installed on your system. BAC0 can't detect the subnet.\n",
      "Please provide subnet for now, we'll consider 255.255.255.0 (/24).\n",
      "You can install netifaces using 'pip install netifaces'.\n",
      "2024-01-16 23:35:35,490 - INFO    | Using ip : 192.168.211.208 on port 47808 | broadcast : 192.168.211.255\n",
      "2024-01-16 23:35:35,628 - INFO    | Using JSON Stored in user folder ~/.BAC0\n",
      "{'BACpypes': {'backup_count': 5, 'color': False, 'cov_lifetime': 60, 'debug': [], 'debug_file': '', 'max_bytes': 1048576, 'route_aware': False}, 'application': [{'active-cov-subscriptions': [], 'apdu-segment-timeout': 1000, 'apdu-timeout': 3000, 'application-software-version': '1.0', 'database-revision': 1, 'device-address-binding': [], 'firmware-revision': 'N/A', 'local-date': '2023-10-08', 'local-time': '22:15:26.22', 'max-apdu-length-accepted': 1024, 'max-segments-accepted': 16, 'model-name': 'BAC0 Scripting Tool', 'number-of-apdu-retries': 3, 'object-identifier': 'device,3057028', 'object-list': ['device,3057028', 'network-port,1'], 'object-name': 'BAC0', 'object-type': 'device', 'property-list': ['object-identifier', 'object-name', 'object-type', 'property-list', 'system-status', 'vendor-name', 'vendor-identifier', 'model-name', 'firmware-revision', 'application-software-version', 'protocol-version', 'protocol-revision', 'protocol-services-supported', 'protocol-object-types-supported', 'object-list', 'max-apdu-length-accepted', 'segmentation-supported', 'max-segments-accepted', 'local-time', 'local-date', 'apdu-segment-timeout', 'apdu-timeout', 'number-of-apdu-retries', 'device-address-binding', 'database-revision', 'active-cov-subscriptions', 'status-flags'], 'protocol-object-types-supported': [], 'protocol-revision': 22, 'protocol-services-supported': ['acknowledge-alarm', 'confirmed-cov-notification', 'confirmed-event-notification', 'subscribe-cov', 'atomic-write-file', 'add-list-element', 'read-property', 'read-property-multiple', 'write-property', 'write-property-multiple'], 'protocol-version': 1, 'segmentation-supported': 'segmented-both', 'status-flags': [], 'system-status': 'operational', 'vendor-identifier': 842, 'vendor-name': 'Servisys inc.'}, {'bacnet-ip-mode': 'normal', 'bacnet-ip-udp-port': 47808, 'changes-pending': False, 'ip-address': '192.168.211.208', 'ip-subnet-mask': '255.255.255.0', 'link-speed': 0.0, 'mac-address': 'c0a8d3d0bac0', 'network-number': None, 'network-number-quality': 'unknown', 'network-type': 'ipv4', 'object-identifier': 'network-port,1', 'object-name': 'NetworkPort-1', 'object-type': 'network-port', 'out-of-service': False, 'property-list': ['object-identifier', 'object-name', 'object-type', 'property-list', 'status-flags', 'reliability', 'out-of-service', 'network-type', 'protocol-level', 'network-number', 'network-number-quality', 'changes-pending', 'mac-address', 'link-speed', 'bacnet-ip-mode', 'ip-address', 'bacnet-ip-udp-port', 'ip-subnet-mask'], 'protocol-level': 'bacnet-application', 'reliability': 'no-fault-detected', 'status-flags': []}]}\n",
      "2024-01-16 23:35:35,629 - INFO    | This application will act as a Foreign Device\n",
      "2024-01-16 23:35:35,630 - INFO    | Configuration sent to build application : {'BACpypes': {'backup_count': 5, 'color': False, 'cov_lifetime': 60, 'debug': [], 'debug_file': '', 'max_bytes': 1048576, 'route_aware': False}, 'application': [{'active-cov-subscriptions': [], 'apdu-segment-timeout': 1000, 'apdu-timeout': 3000, 'application-software-version': '1.0', 'database-revision': 1, 'device-address-binding': [], 'firmware-revision': 'N/A', 'local-date': '2023-10-08', 'local-time': '22:15:26.22', 'max-apdu-length-accepted': 1024, 'max-segments-accepted': 16, 'model-name': 'BAC0 Scripting Tool', 'number-of-apdu-retries': 3, 'object-identifier': 'device,3057028', 'object-list': ['device,3057028', 'network-port,1'], 'object-name': 'BAC0', 'object-type': 'device', 'property-list': ['object-identifier', 'object-name', 'object-type', 'property-list', 'system-status', 'vendor-name', 'vendor-identifier', 'model-name', 'firmware-revision', 'application-software-version', 'protocol-version', 'protocol-revision', 'protocol-services-supported', 'protocol-object-types-supported', 'object-list', 'max-apdu-length-accepted', 'segmentation-supported', 'max-segments-accepted', 'local-time', 'local-date', 'apdu-segment-timeout', 'apdu-timeout', 'number-of-apdu-retries', 'device-address-binding', 'database-revision', 'active-cov-subscriptions', 'status-flags'], 'protocol-object-types-supported': [], 'protocol-revision': 22, 'protocol-services-supported': ['acknowledge-alarm', 'confirmed-cov-notification', 'confirmed-event-notification', 'subscribe-cov', 'atomic-write-file', 'add-list-element', 'read-property', 'read-property-multiple', 'write-property', 'write-property-multiple'], 'protocol-version': 1, 'segmentation-supported': 'segmented-both', 'status-flags': [], 'system-status': 'operational', 'vendor-identifier': 842, 'vendor-name': 'Servisys inc.'}, {'bacnet-ip-mode': 'foreign', 'bacnet-ip-udp-port': 47808, 'changes-pending': False, 'ip-address': '192.168.211.208', 'ip-subnet-mask': '255.255.255.0', 'link-speed': 0.0, 'mac-address': 'c0a8d3d0bac0', 'network-number': None, 'network-number-quality': 'unknown', 'network-type': 'ipv4', 'object-identifier': 'network-port,1', 'object-name': 'NetworkPort-1', 'object-type': 'network-port', 'out-of-service': False, 'property-list': ['object-identifier', 'object-name', 'object-type', 'property-list', 'status-flags', 'reliability', 'out-of-service', 'network-type', 'protocol-level', 'network-number', 'network-number-quality', 'changes-pending', 'mac-address', 'link-speed', 'bacnet-ip-mode', 'ip-address', 'bacnet-ip-udp-port', 'ip-subnet-mask'], 'protocol-level': 'bacnet-application', 'reliability': 'no-fault-detected', 'status-flags': [], 'fd-subscription-lifetime': 900}]}\n",
      "2024-01-16 23:35:35,633 - INFO    | Bind interface to 192.168.211.208 | 255.255.255.0 | 47808\n",
      "2024-01-16 23:35:35,633 - INFO    | Registered as BACnet/IP App\n",
      "2024-01-16 23:35:35,634 - INFO    | Device instance (id) : 3057028\n"
     ]
    },
    {
     "name": "stderr",
     "output_type": "stream",
     "text": [
      "Exception in callback IPv4DatagramServer.set_local_transport_protocol(<IPv4Address 192.168.211.208>)(<Task finishe... 10048, None)>)\n",
      "handle: <Handle IPv4DatagramServer.set_local_transport_protocol(<IPv4Address 192.168.211.208>)(<Task finishe... 10048, None)>)>\n",
      "Traceback (most recent call last):\n",
      "  File \"C:\\Program Files\\WindowsApps\\PythonSoftwareFoundation.Python.3.11_3.11.2032.0_x64__qbz5n2kfra8p0\\Lib\\asyncio\\events.py\", line 80, in _run\n",
      "    self._context.run(self._callback, *self._args)\n",
      "  File \"C:\\Users\\ctremblay\\AppData\\Local\\Packages\\PythonSoftwareFoundation.Python.3.11_qbz5n2kfra8p0\\LocalCache\\local-packages\\Python311\\site-packages\\bacpypes3\\ipv4\\__init__.py\", line 155, in set_local_transport_protocol\n",
      "    transport, protocol = task.result()\n",
      "                          ^^^^^^^^^^^^^\n",
      "  File \"C:\\Program Files\\WindowsApps\\PythonSoftwareFoundation.Python.3.11_3.11.2032.0_x64__qbz5n2kfra8p0\\Lib\\asyncio\\base_events.py\", line 1386, in create_datagram_endpoint\n",
      "    raise exceptions[0]\n",
      "  File \"C:\\Program Files\\WindowsApps\\PythonSoftwareFoundation.Python.3.11_3.11.2032.0_x64__qbz5n2kfra8p0\\Lib\\asyncio\\base_events.py\", line 1370, in create_datagram_endpoint\n",
      "    sock.bind(local_address)\n",
      "OSError: [WinError 10048] Only one usage of each socket address (protocol/network address/port) is normally permitted\n"
     ]
    }
   ],
   "source": [
    "import asyncio\n",
    "import BAC0\n",
    "#BAC0.log_level('debug')\n",
    "bacnet = BAC0.lite(ip='10.211.134.6', bbmdAddress='10.75.27.10:47808', bbmdTTL=900)\n",
    "#bacnet = BAC0.lite(ip=\"192.168.211.208/24\")"
   ]
  },
  {
   "cell_type": "markdown",
   "metadata": {},
   "source": []
  },
  {
   "cell_type": "markdown",
   "metadata": {},
   "source": []
  },
  {
   "cell_type": "code",
   "execution_count": null,
   "metadata": {},
   "outputs": [],
   "source": [
    "bacnet.this_application.app.link_layers"
   ]
  },
  {
   "cell_type": "code",
   "execution_count": null,
   "metadata": {},
   "outputs": [],
   "source": [
    "d = bacnet.discover()\n",
    "d"
   ]
  },
  {
   "cell_type": "code",
   "execution_count": null,
   "metadata": {},
   "outputs": [],
   "source": [
    "\n",
    "np = bacnet.this_application.app.this_application.foreign.register(address, ttl)\n",
    "np"
   ]
  },
  {
   "cell_type": "code",
   "execution_count": null,
   "metadata": {},
   "outputs": [],
   "source": [
    "np.fdSubscriptionLifetime"
   ]
  },
  {
   "cell_type": "code",
   "execution_count": null,
   "metadata": {},
   "outputs": [],
   "source": [
    "res = await bacnet.read(\"303:7 device 5007 objectList\")\n",
    "print(res)"
   ]
  },
  {
   "cell_type": "code",
   "execution_count": null,
   "metadata": {},
   "outputs": [],
   "source": [
    "range_params=('t', None, '2023-10-17', '10:00:00', -2)\n",
    "req = bacnet.build_rrange_request(\"303:7 trendLog 101010 logBuffer\".split(),range_params=range_params)\n",
    "res = await bacnet.this_application.app.request(req)\n",
    "res"
   ]
  },
  {
   "cell_type": "code",
   "execution_count": null,
   "metadata": {},
   "outputs": [],
   "source": [
    "from bacpypes3.basetypes import PropertyReference, ObjectIdentifier, PropertyIdentifier\n",
    "from bacpypes3.pdu import Address\n",
    "range_params=('t', None, '2023-10-18', '10:00:00', -2)\n",
    "res = await bacnet.this_application.app.read_range(Address(\"303:7\"), ObjectIdentifier((\"trendLog\", 101010)), PropertyIdentifier(\"logBuffer\"),range_params=range_params)\n",
    "res"
   ]
  },
  {
   "cell_type": "code",
   "execution_count": null,
   "metadata": {},
   "outputs": [],
   "source": [
    "await bacnet.readMultiple(\"303:9 device:5209, [object-list[0]], analogValue:56, [present-value units description], analogValue:75, [present-value units description]\", from_regex=True)"
   ]
  },
  {
   "cell_type": "code",
   "execution_count": null,
   "metadata": {},
   "outputs": [],
   "source": [
    "pipe"
   ]
  },
  {
   "cell_type": "code",
   "execution_count": null,
   "metadata": {},
   "outputs": [],
   "source": [
    "req = \"303:7 analogValue 29505 objectName presentValue units description analogValue 29504 objectName presentValue units description analogValue 29506 objectName presentValue units description analogValue 29507 objectName presentValue units description analogValue 29508 objectName presentValue units description\"\n",
    "#await bacnet.readMultiple(None, request_dict=_rpm)\n",
    "await bacnet.readMultiple(req)"
   ]
  },
  {
   "cell_type": "code",
   "execution_count": null,
   "metadata": {},
   "outputs": [],
   "source": [
    "#dev = BAC0.device('303:8', 72008, bacnet, auto_save=False, poll=120)\n",
    "#dev2 = BAC0.ADevice('303:9', 5209, bacnet, auto_save=False, poll=10)\n",
    "from BAC0.tools.jci_tec_points_list import tec_short_point_list\n",
    "lst = [(\"analogValue\", 29504),(\"trendLog\", 101010)]\n",
    "dev3 = BAC0.device('303:7', 5007, bacnet, auto_save=False, poll=30, object_list=tec_short_point_list())"
   ]
  },
  {
   "cell_type": "code",
   "execution_count": null,
   "metadata": {},
   "outputs": [],
   "source": [
    "from BAC0.core.devices.Device import DeviceDisconnected\n",
    "from BAC0.tools.jci_tec_points_list import tec_short_point_list\n",
    "dev2 = BAC0.device('303:7', 5007, bacnet, auto_save=False, poll=30)\n"
   ]
  },
  {
   "cell_type": "markdown",
   "metadata": {},
   "source": [
    "dev2 = BAC0.device('303:9', 5209, bacnet, auto_save=False, poll=10)"
   ]
  },
  {
   "cell_type": "code",
   "execution_count": null,
   "metadata": {},
   "outputs": [],
   "source": [
    "dev2 = BAC0.device('303:9', 5209, bacnet, auto_save=False, poll=10)"
   ]
  },
  {
   "cell_type": "code",
   "execution_count": null,
   "metadata": {},
   "outputs": [],
   "source": [
    "await dev3[\"ZNT_Trend\"].history"
   ]
  },
  {
   "cell_type": "code",
   "execution_count": null,
   "metadata": {},
   "outputs": [],
   "source": [
    "dev2['MINFLOWCO2-SP'].poll(command='stop')"
   ]
  },
  {
   "cell_type": "code",
   "execution_count": null,
   "metadata": {},
   "outputs": [],
   "source": [
    "bacnet.write('303:9 analogValue 3271 relinquishDefault 700')"
   ]
  },
  {
   "cell_type": "code",
   "execution_count": null,
   "metadata": {},
   "outputs": [],
   "source": [
    "\n",
    "request = \"{}{}\".format(dev.properties.address, \"\".join(l[0]))\n",
    "print(request)\n",
    "await bacnet.readMultiple(request)"
   ]
  },
  {
   "cell_type": "code",
   "execution_count": null,
   "metadata": {},
   "outputs": [],
   "source": [
    "from BAC0.core.io.asynchronous.Read import ReadProperty\n",
    "await bacnet.build_rpm_request(request.split())"
   ]
  },
  {
   "cell_type": "code",
   "execution_count": null,
   "metadata": {},
   "outputs": [],
   "source": [
    "from bacpypes3.pdu import Address\n",
    "from bacpypes3.primitivedata import Date, Tag, Time, Unsigned\n",
    "from bacpypes3.primitivedata import ObjectIdentifier, PropertyIdentifier\n",
    "from bacpypes3.apdu import ReadPropertyRequest\n",
    "\n",
    "args = '303:9 analogValue 9 presentValue'\n",
    "address,objid,prop, idx = bacnet.build_rp_request(args.split())\n",
    "#read_property_request = ReadPropertyRequest(\n",
    "#    objectIdentifier=objid,\n",
    "#    propertyIdentifier='presentValue',\n",
    "#    destination=address,\n",
    "#)\n",
    "type(objid)"
   ]
  },
  {
   "cell_type": "code",
   "execution_count": null,
   "metadata": {},
   "outputs": [],
   "source": [
    "segmentation = await bacnet.read(\"303:9 device 5209 segmentationSupported\")\n",
    "segmentation = False if segmentation.numerator == 3 else True\n",
    "print(segmentation)"
   ]
  },
  {
   "cell_type": "code",
   "execution_count": null,
   "metadata": {},
   "outputs": [],
   "source": [
    "t = BAC0.tasks.asynchronous.TaskManager.Task\n",
    "t.tasks"
   ]
  },
  {
   "cell_type": "code",
   "execution_count": null,
   "metadata": {},
   "outputs": [],
   "source": [
    "description = await bacnet.read(\"303:8 analogValue 9 description\")\n",
    "print(description)"
   ]
  },
  {
   "cell_type": "code",
   "execution_count": null,
   "metadata": {},
   "outputs": [],
   "source": [
    "from BAC0.tasks.asynchronous.TaskManager import Task\n",
    "t = Task()"
   ]
  },
  {
   "cell_type": "code",
   "execution_count": null,
   "metadata": {},
   "outputs": [],
   "source": [
    "pl = ()\n",
    "pl + 'a'"
   ]
  },
  {
   "cell_type": "code",
   "execution_count": null,
   "metadata": {},
   "outputs": [],
   "source": [
    "Tag List :  [\n",
    "    <bacpypes3.primitivedata.Tag(context(0)) instance at 0x19183796a90>, # Object Identifier\n",
    "    <bacpypes3.primitivedata.Tag(context(1)) instance at 0x191851bc110>, # Property Identifier\n",
    "    <bacpypes3.primitivedata.Tag(context(3)) instance at 0x191851bc8d0>, # resultFlags\n",
    "    <bacpypes3.primitivedata.Tag(context(4)) instance at 0x191851bc990>, # itemCount\n",
    "    <bacpypes3.primitivedata.Tag(open(5)) instance at 0x191851bca50>, # itemData\n",
    "    <bacpypes3.primitivedata.Tag(open(0)) instance at 0x191851bca90>,  # OPEN\n",
    "    <bacpypes3.primitivedata.Tag(date) instance at 0x191851bcb10>,        # Date\n",
    "    <bacpypes3.primitivedata.Tag(time) instance at 0x191851bcb90>,        # Time\n",
    "    <bacpypes3.primitivedata.Tag(close(0)) instance at 0x191851bcc10>, # CLOSE\n",
    "    <bacpypes3.primitivedata.Tag(open(1)) instance at 0x191851bc690>,  # OPEN\n",
    "    <bacpypes3.primitivedata.Tag(context(2)) instance at 0x191851bccd0>,  # REAL VALUE\n",
    "    <bacpypes3.primitivedata.Tag(close(1)) instance at 0x191851bc0d0>, # CLOSE\n",
    "    <bacpypes3.primitivedata.Tag(context(2)) instance at 0x191851bcd90>,  # STATUS - NO OPEN CLOSE\n",
    "    <bacpypes3.primitivedata.Tag(open(0)) instance at 0x191851bce10>, # OPEN\n",
    "    <bacpypes3.primitivedata.Tag(date) instance at 0x191851bce90>,         # Date\n",
    "    <bacpypes3.primitivedata.Tag(time) instance at 0x191851bcf10>,         # Time\n",
    "    <bacpypes3.primitivedata.Tag(close(0)) instance at 0x191851bcf90>, # CLOSE \n",
    "    <bacpypes3.primitivedata.Tag(open(1)) instance at 0x191851bd010>, # OPEN\n",
    "    <bacpypes3.primitivedata.Tag(context(2)) instance at 0x191851bd090>, # REAL VALUE\n",
    "    <bacpypes3.primitivedata.Tag(close(1)) instance at 0x191851bd110>,  # CLOSE\n",
    "    <bacpypes3.primitivedata.Tag(context(2)) instance at 0x191851bd190>, # STATUS FLAGS\n",
    "    <bacpypes3.primitivedata.Tag(close(5)) instance at 0x191851bd210>, # Close itemData\n",
    "    <bacpypes3.primitivedata.Tag(context(6)) instance at 0x191851bd290>] # FirstSequenceNumber\n",
    "communication: invalid-tag\n",
    "\"\"\"\n",
    "Frame 80493: 116 bytes on wire (928 bits), 116 bytes captured (928 bits) on interface \\Device\\NPF_{073DF508-C57D-4844-B446-0AB1569201BD}, id 0\n",
    "Ethernet II, Src: Contempo_00:e1:2d (00:50:db:00:e1:2d), Dst: Dell_89:c7:83 (ac:1a:3d:89:c7:83)\n",
    "Internet Protocol Version 4, Src: 192.168.211.30, Dst: 192.168.211.208\n",
    "User Datagram Protocol, Src Port: 47808, Dst Port: 47808\n",
    "BACnet Virtual Link Control\n",
    "Building Automation and Control Network NPDU\n",
    "    Version: 0x01 (ASHRAE 135-1995)\n",
    "    Control: 0x08, Source specifier\n",
    "    Source Network Address: 303\n",
    "    Source MAC Layer Address Length: 1\n",
    "    SADR: 7\n",
    "Building Automation and Control Network APDU\n",
    "    0011 .... = APDU Type: Complex-ACK (3)\n",
    "    .... 0000 = PDU Flags: 0x0\n",
    "    Invoke ID: 0\n",
    "    Service Choice: readRange (26)\n",
    "    ObjectIdentifier: trend-log, 101010\n",
    "    Property Identifier: log-buffer (131)\n",
    "    resultFlags: (Bit String) (FFF)\n",
    "    item Count: (Unsigned) 2\n",
    "    itemData\n",
    "        {[5]\n",
    "            .... 1... = Tag Class: Context Specific Tag\n",
    "            0101 .... = Context Tag Number: 5\n",
    "            .... .110 = Named Tag: Opening Tag (6)\n",
    "        {[0]\n",
    "        Date: October 16, 2023, (Day of Week = Monday)\n",
    "        Time: 9:30:00.0 A.M. = 09:30:00.0\n",
    "        }[0]\n",
    "        {[1]\n",
    "        real value: 22.216022 (Real)\n",
    "        }[1]\n",
    "        Status Flags: (Bit String) (FFFF)\n",
    "        {[0]\n",
    "        Date: October 16, 2023, (Day of Week = Monday)\n",
    "        Time: 9:45:00.0 A.M. = 09:45:00.0\n",
    "        }[0]\n",
    "        {[1]\n",
    "        real value: 22.232443 (Real)\n",
    "        }[1]\n",
    "        Status Flags: (Bit String) (FFFF)\n",
    "        }[5]\n",
    "        first Sequence Number: (Unsigned) 3264\n",
    "\"\"\""
   ]
  },
  {
   "cell_type": "code",
   "execution_count": null,
   "metadata": {},
   "outputs": [],
   "source": [
    "l = []\n",
    "l.pop()"
   ]
  },
  {
   "cell_type": "code",
   "execution_count": null,
   "metadata": {},
   "outputs": [],
   "source": [
    "\"1\".split(\"'prop_\")[1]"
   ]
  },
  {
   "cell_type": "code",
   "execution_count": null,
   "metadata": {},
   "outputs": [],
   "source": [
    "import re\n",
    "from bacpypes3.pdu import Address\n",
    "rpm_request_pattern = r\"(?P<request>(?P<Object>[0-9A-Za-z-]+:\\d+)[, ]+[(\\[ ](?P<Properties>(?P<Property>[0-9A-Za-z-]+(\\[\\d+\\])*[, ]*)+)[)\\]]*)\"\n",
    "\n",
    "args = \"303:9 device:5209, [object-list[0]], analogValue:56, [present-value units description], analogValue:75, [present-value units description]\"\n",
    "args2 = \"303:9 device:5209, object-list[0], analogValue:56, present-value units description, analogValue:75, present-value units description\"\n",
    "\n",
    "def build_request(args):\n",
    "    address = Address(args.split()[0])\n",
    "    pattern = re.compile(rpm_request_pattern)\n",
    "\n",
    "    result = re.findall(pattern, args)\n",
    "    request = [address]\n",
    "    for each in result:\n",
    "        _, object, properties, _, _ = each\n",
    "        request.append(object)\n",
    "        request.append([x for x in properties.split()])\n",
    "    print(request)\n",
    "    return request\n",
    "\n",
    "build_request(args)\n",
    "build_request(args2)"
   ]
  },
  {
   "cell_type": "code",
   "execution_count": null,
   "metadata": {},
   "outputs": [],
   "source": [
    "float('b')"
   ]
  },
  {
   "cell_type": "code",
   "execution_count": null,
   "metadata": {},
   "outputs": [],
   "source": [
    "arg = \"303:7 trendLog,101010 logBuffer t None 2023-10-18 10:00:00 -2\"\n",
    "arg.split()"
   ]
  },
  {
   "cell_type": "code",
   "execution_count": null,
   "metadata": {},
   "outputs": [],
   "source": []
  },
  {
   "cell_type": "code",
   "execution_count": null,
   "metadata": {},
   "outputs": [],
   "source": [
    "jci"
   ]
  },
  {
   "cell_type": "code",
   "execution_count": null,
   "metadata": {},
   "outputs": [],
   "source": [
    "from bacpypes3.object import AnalogValueObject, DeviceObject\n",
    "from bacpypes3.primitivedata import Real, Boolean, Atomic, Enumerated, Unsigned\n",
    "JCIAnalogValueObject = {\n",
    "    \"name\": \"JCIAnalogValueObject\",\n",
    "    \"vendor_id\": 5,\n",
    "    \"objectType\": \"analogValue\",\n",
    "    \"bacpypes_type\": AnalogValueObject,\n",
    "    \"properties\": {\n",
    "        \"FLOW-SP_EEPROM\": {\"obj_id\": 3113, \"datatype\": Real, \"mutable\": True},\n",
    "        \"Offset\": {\"obj_id\": 956, \"datatype\": Real, \"mutable\": True},\n",
    "        \"Offline\": {\"obj_id\": 913, \"datatype\": Boolean, \"mutable\": False},\n",
    "        \"SABusAddr\": {\"obj_id\": 3645, \"datatype\": Unsigned, \"mutable\": False},\n",
    "        \"PeerToPeer\": {\"obj_id\": 748, \"datatype\": Atomic, \"mutable\": False},\n",
    "        \"P2P_ErrorStatus\": {\"obj_id\": 746, \"datatype\": Enumerated, \"mutable\": False},\n",
    "    },\n",
    "}"
   ]
  },
  {
   "cell_type": "code",
   "execution_count": null,
   "metadata": {},
   "outputs": [],
   "source": [
    "from bacpypes3.vendor import VendorInfo\n",
    "from BAC0.core.proprietary_objects.jci import JCIDeviceObject, JCIAnalogInputObject, JCIAnalogOutputObject, JCIAnalogValueObject\n",
    "jci = VendorInfo(5)\n",
    "def create_vendor_class(config, vendor_info=None):\n",
    "    _klass = config['bacpypes_type']()\n",
    "    for k,v in config[\"properties\"].items():\n",
    "        vendor_info.register_object_class(v['obj_id'], v['datatype'])\n",
    "\n"
   ]
  },
  {
   "cell_type": "code",
   "execution_count": null,
   "metadata": {},
   "outputs": [],
   "source": [
    "create_vendor_class(JCIDeviceObject, jci)\n",
    "create_vendor_class(JCIAnalogInputObject, jci)\n",
    "create_vendor_class(JCIAnalogOutputObject, jci)\n",
    "create_vendor_class(JCIAnalogValueObject, jci)"
   ]
  },
  {
   "cell_type": "code",
   "execution_count": null,
   "metadata": {},
   "outputs": [],
   "source": [
    "JCIDeviceObject['properties']"
   ]
  },
  {
   "cell_type": "code",
   "execution_count": null,
   "metadata": {},
   "outputs": [],
   "source": [
    "pl"
   ]
  },
  {
   "cell_type": "code",
   "execution_count": null,
   "metadata": {},
   "outputs": [],
   "source": [
    "jci.debug_contents()"
   ]
  },
  {
   "cell_type": "code",
   "execution_count": null,
   "metadata": {},
   "outputs": [],
   "source": [
    "jci.get_object_class(1006)"
   ]
  },
  {
   "cell_type": "code",
   "execution_count": null,
   "metadata": {},
   "outputs": [],
   "source": [
    "from ddcmath.airflow import fpm2cfm, cfm2ls\n",
    "\n",
    "fpm = (1170+1511+1129)/3\n",
    "debit = cfm2ls(fpm2cfm(fpm, area=(16,16)))"
   ]
  },
  {
   "cell_type": "code",
   "execution_count": null,
   "metadata": {},
   "outputs": [],
   "source": [
    "debit"
   ]
  },
  {
   "cell_type": "code",
   "execution_count": null,
   "metadata": {},
   "outputs": [],
   "source": [
    "from bacpypes3.local.binary import BinaryInputObject, BinaryValueObject, BinaryOutputObject\n",
    "bo = BinaryOutputObject()"
   ]
  },
  {
   "cell_type": "code",
   "execution_count": null,
   "metadata": {},
   "outputs": [],
   "source": [
    "from BAC0.core.devices.local.factory import ObjectFactory, create, analog, analog_value, binary_input, binary_output\n",
    "from bacpypes3.local.binary import BinaryInputObject, BinaryValueObject, BinaryOutputObject\n",
    "_new_objects = analog_value(presentValue=79.9)"
   ]
  },
  {
   "cell_type": "code",
   "execution_count": null,
   "metadata": {},
   "outputs": [],
   "source": [
    "_new_objects = binary_input()\n"
   ]
  },
  {
   "cell_type": "code",
   "execution_count": null,
   "metadata": {},
   "outputs": [],
   "source": [
    "_new_objects = BinaryOutputObject(presentValue='inactive')"
   ]
  },
  {
   "cell_type": "code",
   "execution_count": null,
   "metadata": {},
   "outputs": [],
   "source": [
    "_new_objects = binary_output()"
   ]
  },
  {
   "cell_type": "code",
   "execution_count": null,
   "metadata": {},
   "outputs": [],
   "source": [
    "from collections import defaultdict\n",
    "class config(defaultdict):\n",
    "    \"Simple class to mimic args dot retrieval\"\n",
    "    def __init__(self, cfg):\n",
    "        for k, v in cfg.items():\n",
    "            self[k] = v\n",
    "    def __getattr__(self, key):\n",
    "        return self[key]\n",
    "    \n",
    "cfg = {\n",
    "\"vendoridentifier\" : 842,\n",
    "\"instance\": 12,\n",
    "\"name\" : 'name',\n",
    "\"address\" : '192.168.211.54/24',\n",
    "\"network\": None,\n",
    "\"foreign\": None,\n",
    "\"ttl\": None,\n",
    "\"bbmd\" : None\n",
    "}\n",
    "c = config(cfg)"
   ]
  },
  {
   "cell_type": "code",
   "execution_count": null,
   "metadata": {},
   "outputs": [],
   "source": [
    "c"
   ]
  },
  {
   "cell_type": "code",
   "execution_count": null,
   "metadata": {},
   "outputs": [],
   "source": [
    "from bacpypes3.app import get_vendor_info, _debug\n",
    "from bacpypes3.vendor import VendorInfo\n",
    "from bacpypes3.primitivedata import ObjectType\n",
    "servisys = VendorInfo(842)\n",
    "_debug = 1\n",
    "vi = get_vendor_info(842)"
   ]
  },
  {
   "cell_type": "code",
   "execution_count": null,
   "metadata": {},
   "outputs": [],
   "source": [
    "network_port_object_class = vi.get_object_class(ObjectType.networkPort)\n",
    "address = None\n",
    "foreign = False\n",
    "network = None\n",
    "if not address:\n",
    "    address = \"host:0\" if foreign else \"host\""
   ]
  },
  {
   "cell_type": "code",
   "execution_count": null,
   "metadata": {},
   "outputs": [],
   "source": [
    "network_port_object = network_port_object_class(\n",
    "            address,\n",
    "            objectIdentifier=(\"network-port\", 1),\n",
    "            objectName=\"NetworkPort-1\",\n",
    "            networkNumber=network,\n",
    "            networkNumberQuality=\"configured\" if network else \"unknown\",\n",
    "        )"
   ]
  },
  {
   "cell_type": "code",
   "execution_count": null,
   "metadata": {},
   "outputs": [],
   "source": [
    "import json\n",
    "import os\n",
    "cfg = {\n",
    "\"vendor-identifier\" : self.vendorId,\n",
    "\"instance\": self.Boid,\n",
    "\"name\" : self.modelName,\n",
    "\"address\" : self.localIPAddr,\n",
    "\"network\": None,\n",
    "\"foreign\": self.bbmdAddress,\n",
    "\"ttl\": self.bbmdTTL,\n",
    "\"bbmd\" : self.bdtable,\n",
    "\"max-segments-accepted\": 16,\n",
    "\"max-apdu-length-accepted\": 1024,\n",
    "\"apdu-segment-timeout\": 1000,\n",
    "\"apdu-timeout\": 3000,\n",
    "\"number-of-apdu-retries\": 3\n",
    "}\n",
    "if os.path.exists(os.path.join(os.path.expanduser(\"~\"), \".BAC0\", \"device.json\")):\n",
    "    json_file = os.path.join(os.path.expanduser(\"~\"), \".BAC0\", \"device.json\")\n",
    "    \n",
    "else:\n",
    "    json_file = os.path.join(os.path.dirname(os.path.abspath(__file__)), \"device.json\")\n",
    "with open(json_file, 'r') as file:\n",
    "    _cfg = json.load(file)"
   ]
  },
  {
   "cell_type": "code",
   "execution_count": null,
   "metadata": {},
   "outputs": [],
   "source": [
    "for k,v in _cfg['application'][0].items():\n",
    "    if k in "
   ]
  },
  {
   "cell_type": "code",
   "execution_count": null,
   "metadata": {},
   "outputs": [],
   "source": [
    "from bacpypes3.pdu import Address\n",
    "a = Address('192.168.1.2/24')"
   ]
  },
  {
   "cell_type": "code",
   "execution_count": null,
   "metadata": {},
   "outputs": [],
   "source": [
    "str(a.netmask)"
   ]
  },
  {
   "cell_type": "code",
   "execution_count": null,
   "metadata": {},
   "outputs": [],
   "source": [
    "from collections import defaultdict\n",
    "class config(defaultdict):\n",
    "    \"Simple class to mimic args dot retrieval\"\n",
    "    def __init__(self, cfg):\n",
    "        for k, v in cfg.items():\n",
    "            self[k] = v\n",
    "    def __getattr__(self, key):\n",
    "        return self[key]\n",
    "cfg = {\n",
    "    \"device\": {\n",
    "        \"vendor-identifier\" : self.vendorId,\n",
    "        \"vendor-name\": \"Servisys inc.\",\n",
    "        \"object-identifier\": f\"device,{self.Boid}\",\n",
    "        \"object-list\": [\n",
    "            f\"device,{self.Boid}\",\n",
    "            \"network-port,1\"\n",
    "        ],\n",
    "        \"model-name\" : self.modelName\n",
    "    },\n",
    "    \"network-port\":{\n",
    "        \"network-number\": None,\n",
    "        \"foreign\": self.bbmdAddress,\n",
    "        \"ttl\": self.bbmdTTL,\n",
    "        \"bdt\" : self.bdtable,\n",
    "        \"bacnet-ip-udp-port\": self.localIPAddr.addrPort,\n",
    "        \"ip-address\": str(self.localIPAddr),\n",
    "}\n",
    "}"
   ]
  },
  {
   "cell_type": "code",
   "execution_count": null,
   "metadata": {},
   "outputs": [],
   "source": [
    "from bacpypes3.basetypes import (\n",
    "    DeviceStatus,\n",
    "    IPv4OctetString,\n",
    "    Segmentation,\n",
    "    ServicesSupported,\n",
    "    ProtocolLevel,\n",
    "    NetworkType,\n",
    "    IPMode,\n",
    "    HostNPort,\n",
    "    BDTEntry,\n",
    ")"
   ]
  },
  {
   "cell_type": "code",
   "execution_count": null,
   "metadata": {},
   "outputs": [],
   "source": [
    "HostNPort('10.75.27.10:47808')"
   ]
  },
  {
   "cell_type": "code",
   "execution_count": null,
   "metadata": {},
   "outputs": [],
   "source": [
    "from bacpypes3.json.util import sequence_to_json\n",
    "\n",
    "sequence_to_json(HostNPort('10.75.27.10:47808'))"
   ]
  },
  {
   "cell_type": "code",
   "execution_count": null,
   "metadata": {},
   "outputs": [],
   "source": [
    "h = HostNPort('10.75.27.10:47808')"
   ]
  },
  {
   "cell_type": "code",
   "execution_count": null,
   "metadata": {},
   "outputs": [],
   "source": [
    "str(h.host.ipAddress)"
   ]
  },
  {
   "cell_type": "code",
   "execution_count": null,
   "metadata": {},
   "outputs": [],
   "source": [
    "h.port"
   ]
  },
  {
   "cell_type": "code",
   "execution_count": null,
   "metadata": {},
   "outputs": [],
   "source": []
  }
 ],
 "metadata": {
  "kernelspec": {
   "display_name": "Python 3",
   "language": "python",
   "name": "python3"
  },
  "language_info": {
   "codemirror_mode": {
    "name": "ipython",
    "version": 3
   },
   "file_extension": ".py",
   "mimetype": "text/x-python",
   "name": "python",
   "nbconvert_exporter": "python",
   "pygments_lexer": "ipython3",
   "version": "3.11.7"
  }
 },
 "nbformat": 4,
 "nbformat_minor": 2
}
