{
 "cells": [
  {
   "cell_type": "code",
   "execution_count": 1,
   "metadata": {},
   "outputs": [
    {
     "name": "stdout",
     "output_type": "stream",
     "text": [
      "2023-12-20 21:57:24,869 - INFO    | Starting BAC0 version 2024 (Async)\n",
      "2023-12-20 21:57:24,870 - INFO    | Use BAC0.log_level to adjust verbosity of the app.\n",
      "2023-12-20 21:57:24,871 - INFO    | Ex. BAC0.log_level('silence') or BAC0.log_level('error')\n",
      "2023-12-20 21:57:24,872 - INFO    | Using ip : 192.168.211.208 on port 47808 | broadcast : 192.168.211.255\n",
      "2023-12-20 21:57:28,103 - WARNING | Netifaces not installed on your system. BAC0 can't detect the subnet.\n",
      "Please provide subnet for now, we'll consider 255.255.255.0 (/24).\n",
      "You can install netifaces using 'pip install netifaces'.\n",
      "192.168.211.208\n",
      "2023-12-20 21:57:28,105 - INFO    | Registered as Simple BACnet/IP App\n",
      "2023-12-20 21:57:28,106 - INFO    | Device instance (id) : 3056457\n"
     ]
    }
   ],
   "source": [
    "import asyncio\n",
    "import BAC0\n",
    "bacnet = BAC0.lite(ip='192.168.211.208/24')"
   ]
  },
  {
   "cell_type": "code",
   "execution_count": null,
   "metadata": {},
   "outputs": [],
   "source": [
    "bacnet.time_sync(UTC=True)"
   ]
  },
  {
   "cell_type": "code",
   "execution_count": 2,
   "metadata": {},
   "outputs": [
    {
     "name": "stdout",
     "output_type": "stream",
     "text": [
      "2023-12-20 21:57:39,098 - INFO    | Found those networks : [1, 304, 211, 303, 2]\n",
      "2023-12-20 21:57:39,098 - INFO    | Discovering network 1\n",
      "2023-12-20 21:57:42,104 - INFO    | Discovering network 304\n",
      "2023-12-20 21:57:45,119 - INFO    | Discovering network 211\n",
      "2023-12-20 21:57:48,129 - INFO    | Discovering network 303\n",
      "2023-12-20 21:57:51,148 - INFO    | Discovering network 2\n",
      "device,500 @ 192.168.211.63\n",
      "device,3056267 @ 192.168.211.201\n",
      "device,2114 @ 192.168.211.4\n",
      "device,81113 @ 192.168.211.30\n",
      "device,210253 @ 192.168.210.253\n",
      "device,5204 @ 303:4\n",
      "device,5007 @ 303:7\n",
      "device,5 @ 2:5\n",
      "device,72008 @ 303:8\n",
      "device,5209 @ 303:9\n",
      "device,60011 @ 303:11\n",
      "device,5404 @ 304:4\n",
      "device,5405 @ 304:5\n",
      "device,500 @ 192.168.211.63\n",
      "device,2114 @ 192.168.211.4\n",
      "device,3056267 @ 192.168.211.201\n",
      "device,81113 @ 192.168.211.30\n",
      "device,210253 @ 192.168.210.253\n",
      "device,5404 @ 304:4\n",
      "device,5405 @ 304:5\n",
      "device,5204 @ 303:4\n",
      "device,5007 @ 303:7\n",
      "device,72008 @ 303:8\n",
      "device,5209 @ 303:9\n",
      "device,60011 @ 303:11\n",
      "device,5 @ 2:5\n",
      "device,500 @ 192.168.211.63\n",
      "device,2114 @ 192.168.211.4\n",
      "device,3056267 @ 192.168.211.201\n",
      "device,81113 @ 192.168.211.30\n",
      "device,210253 @ 192.168.210.253\n",
      "device,5404 @ 304:4\n",
      "device,5405 @ 304:5\n",
      "device,5 @ 2:5\n",
      "device,5204 @ 303:4\n",
      "device,5007 @ 303:7\n",
      "device,72008 @ 303:8\n",
      "device,5209 @ 303:9\n",
      "device,60011 @ 303:11\n",
      "device,500 @ 192.168.211.63\n",
      "device,2114 @ 192.168.211.4\n",
      "device,3056267 @ 192.168.211.201\n",
      "device,81113 @ 192.168.211.30\n",
      "device,210253 @ 192.168.210.253\n",
      "device,5204 @ 303:4\n",
      "device,5404 @ 304:4\n",
      "device,5007 @ 303:7\n",
      "device,5405 @ 304:5\n",
      "device,72008 @ 303:8\n",
      "device,5209 @ 303:9\n",
      "device,5 @ 2:5\n",
      "device,60011 @ 303:11\n",
      "device,500 @ 192.168.211.63\n",
      "device,3056267 @ 192.168.211.201\n",
      "device,2114 @ 192.168.211.4\n",
      "device,210253 @ 192.168.210.253\n",
      "device,81113 @ 192.168.211.30\n",
      "device,5 @ 2:5\n",
      "device,5204 @ 303:4\n",
      "device,5404 @ 304:4\n",
      "device,5007 @ 303:7\n",
      "device,5405 @ 304:5\n",
      "device,72008 @ 303:8\n",
      "device,5209 @ 303:9\n",
      "device,60011 @ 303:11\n"
     ]
    }
   ],
   "source": [
    "d = bacnet.discover()\n",
    "d"
   ]
  },
  {
   "cell_type": "code",
   "execution_count": 5,
   "metadata": {},
   "outputs": [
    {
     "data": {
      "text/plain": [
       "[]"
      ]
     },
     "execution_count": 5,
     "metadata": {},
     "output_type": "execute_result"
    },
    {
     "name": "stdout",
     "output_type": "stream",
     "text": [
      "2023-12-21 01:45:12,914 - WARNING | High latency for Ping Task\n",
      "2023-12-21 01:45:12,915 - WARNING | Stats : Ping Task                                | Avg exec delay : 5180.02 sec | Avg latency : 4581.18 sec | last executed : 2023-12-20 22:57:28 | Next Time : 2023-12-20 23:07:28\n",
      "2023-12-21 01:55:12,940 - WARNING | High latency for Ping Task\n",
      "2023-12-21 01:55:12,942 - WARNING | Stats : Ping Task                                | Avg exec delay : 2890.03 sec | Avg latency : 2290.59 sec | last executed : 2023-12-21 01:40:12 | Next Time : 2023-12-21 01:50:12\n",
      "2023-12-21 02:05:12,945 - WARNING | High latency for Ping Task\n",
      "2023-12-21 02:05:12,947 - WARNING | Stats : Ping Task                                | Avg exec delay : 1745.02 sec | Avg latency : 1145.30 sec | last executed : 2023-12-21 01:50:12 | Next Time : 2023-12-21 02:00:12\n",
      "2023-12-21 02:15:12,988 - WARNING | High latency for Ping Task\n",
      "2023-12-21 02:15:12,989 - WARNING | Stats : Ping Task                                | Avg exec delay : 1172.52 sec | Avg latency : 572.66 sec | last executed : 2023-12-21 02:00:12 | Next Time : 2023-12-21 02:10:12\n",
      "2023-12-21 02:25:13,005 - WARNING | High latency for Ping Task\n",
      "2023-12-21 02:25:13,005 - WARNING | Stats : Ping Task                                | Avg exec delay : 886.28 sec | Avg latency : 286.33 sec | last executed : 2023-12-21 02:10:12 | Next Time : 2023-12-21 02:20:12\n",
      "2023-12-21 02:35:13,006 - WARNING | High latency for Ping Task\n",
      "2023-12-21 02:35:13,007 - WARNING | Stats : Ping Task                                | Avg exec delay : 743.14 sec | Avg latency : 143.16 sec | last executed : 2023-12-21 02:20:12 | Next Time : 2023-12-21 02:30:13\n",
      "2023-12-21 07:08:31,939 - WARNING | High latency for Ping Task\n",
      "2023-12-21 07:08:31,950 - WARNING | Stats : Ping Task                                | Avg exec delay : 671.58 sec | Avg latency : 71.59 sec | last executed : 2023-12-21 02:30:12 | Next Time : 2023-12-21 02:40:13\n",
      "2023-12-21 11:32:44,599 - WARNING | High latency for Ping Task\n",
      "2023-12-21 11:32:44,600 - WARNING | Stats : Ping Task                                | Avg exec delay : 4067.35 sec | Avg latency : 3450.45 sec | last executed : 2023-12-21 09:22:43 | Next Time : 2023-12-21 09:32:43\n",
      "2023-12-21 11:42:44,509 - WARNING | High latency for Ping Task\n",
      "2023-12-21 11:42:44,510 - WARNING | Stats : Ping Task                                | Avg exec delay : 2333.63 sec | Avg latency : 1725.17 sec | last executed : 2023-12-21 11:27:44 | Next Time : 2023-12-21 11:37:44\n",
      "2023-12-21 11:52:44,517 - WARNING | High latency for Ping Task\n",
      "2023-12-21 11:52:44,520 - WARNING | Stats : Ping Task                                | Avg exec delay : 1466.82 sec | Avg latency : 862.59 sec | last executed : 2023-12-21 11:37:44 | Next Time : 2023-12-21 11:47:44\n",
      "2023-12-21 12:02:44,529 - WARNING | High latency for Ping Task\n",
      "2023-12-21 12:02:44,530 - WARNING | Stats : Ping Task                                | Avg exec delay : 1033.41 sec | Avg latency : 431.29 sec | last executed : 2023-12-21 11:47:44 | Next Time : 2023-12-21 11:57:44\n",
      "2023-12-21 12:12:44,535 - WARNING | High latency for Ping Task\n",
      "2023-12-21 12:12:44,536 - WARNING | Stats : Ping Task                                | Avg exec delay : 816.71 sec | Avg latency : 215.65 sec | last executed : 2023-12-21 11:57:44 | Next Time : 2023-12-21 12:07:44\n",
      "2023-12-21 12:22:44,543 - WARNING | High latency for Ping Task\n",
      "2023-12-21 12:22:44,545 - WARNING | Stats : Ping Task                                | Avg exec delay : 708.36 sec | Avg latency : 107.82 sec | last executed : 2023-12-21 12:07:44 | Next Time : 2023-12-21 12:17:44\n"
     ]
    }
   ],
   "source": [
    "bacnet.devices"
   ]
  },
  {
   "cell_type": "code",
   "execution_count": null,
   "metadata": {},
   "outputs": [],
   "source": [
    "res = await bacnet.read(\"303:7 device 5007 objectList\")\n",
    "print(res)"
   ]
  },
  {
   "cell_type": "code",
   "execution_count": null,
   "metadata": {},
   "outputs": [],
   "source": [
    "range_params=('t', None, '2023-10-17', '10:00:00', -2)\n",
    "req = bacnet.build_rrange_request(\"303:7 trendLog 101010 logBuffer\".split(),range_params=range_params)\n",
    "res = await bacnet.this_application.app.request(req)\n",
    "res"
   ]
  },
  {
   "cell_type": "code",
   "execution_count": 2,
   "metadata": {},
   "outputs": [
    {
     "data": {
      "text/plain": [
       "[<bacpypes3.basetypes.LogRecord at 0x24f46c15f10>,\n",
       " <bacpypes3.basetypes.LogRecord at 0x24f468ff610>]"
      ]
     },
     "execution_count": 2,
     "metadata": {},
     "output_type": "execute_result"
    }
   ],
   "source": [
    "from bacpypes3.basetypes import PropertyReference, ObjectIdentifier, PropertyIdentifier\n",
    "from bacpypes3.pdu import Address\n",
    "range_params=('t', None, '2023-10-18', '10:00:00', -2)\n",
    "res = await bacnet.this_application.app.read_range(Address(\"303:7\"), ObjectIdentifier((\"trendLog\", 101010)), PropertyIdentifier(\"logBuffer\"),range_params=range_params)\n",
    "res"
   ]
  },
  {
   "cell_type": "code",
   "execution_count": 2,
   "metadata": {},
   "outputs": [
    {
     "data": {
      "text/plain": [
       "[148,\n",
       " 100.0,\n",
       " <EngineeringUnits: percent>,\n",
       " '',\n",
       " 20.0,\n",
       " <EngineeringUnits: degrees-celsius>,\n",
       " '']"
      ]
     },
     "execution_count": 2,
     "metadata": {},
     "output_type": "execute_result"
    }
   ],
   "source": [
    "await bacnet.readMultiple(\"303:9 device:5209, [object-list[0]], analogValue:56, [present-value units description], analogValue:75, [present-value units description]\", from_regex=True)"
   ]
  },
  {
   "cell_type": "code",
   "execution_count": null,
   "metadata": {},
   "outputs": [],
   "source": [
    "pipe"
   ]
  },
  {
   "cell_type": "code",
   "execution_count": null,
   "metadata": {},
   "outputs": [],
   "source": [
    "await bacnet.readMultiple(None, request_dict=_rpm)"
   ]
  },
  {
   "cell_type": "code",
   "execution_count": null,
   "metadata": {},
   "outputs": [
    {
     "name": "stdout",
     "output_type": "stream",
     "text": [
      "2023-10-18 09:08:14,067 - INFO    | Changing device state to DeviceDisconnected'>\n"
     ]
    },
    {
     "name": "stdout",
     "output_type": "stream",
     "text": [
      "2023-10-18 09:08:14,237 - INFO    | Changing device state to RPMDeviceConnected'>\n",
      "2023-10-18 09:08:14,427 - INFO    | Device 5007:[TEC3000-7] found... building points list\n",
      "2023-10-18 09:08:14,588 - INFO    | Ready!\n",
      "2023-10-18 09:08:14,589 - INFO    | Device defined for normal polling with a delay of 30sec\n",
      "2023-10-18 09:08:14,590 - INFO    | Polling started, values read every 30 seconds\n"
     ]
    }
   ],
   "source": [
    "#dev = BAC0.ADevice('303:8', 72008, bacnet, auto_save=False, poll=120)\n",
    "#dev2 = BAC0.ADevice('303:9', 5209, bacnet, auto_save=False, poll=10)\n",
    "from BAC0.core.proprietary_objects.jci import tec_short_point_list\n",
    "lst = [(\"analogValue\", 29504),(\"trendLog\", 101010)]\n",
    "dev3 = BAC0.ADevice('303:7', 5007, bacnet, auto_save=False, poll=30, object_list=lst)"
   ]
  },
  {
   "cell_type": "code",
   "execution_count": 5,
   "metadata": {},
   "outputs": [
    {
     "data": {
      "text/plain": [
       "index\n",
       "2023-10-17 08:45:00    23.300650\n",
       "2023-10-17 09:00:00    23.301512\n",
       "2023-10-17 09:15:00    23.299765\n",
       "2023-10-17 09:30:00    23.326548\n",
       "2023-10-17 09:45:00    23.344324\n",
       "                         ...    \n",
       "2023-10-18 08:30:00    22.818884\n",
       "2023-10-18 08:45:00    22.985840\n",
       "2023-10-18 09:00:00    22.836342\n",
       "2023-10-18 09:15:00    22.840347\n",
       "2023-10-18 09:30:00    22.811012\n",
       "Name: TEC3000-7/ZNT_Trend, Length: 100, dtype: float64"
      ]
     },
     "execution_count": 5,
     "metadata": {},
     "output_type": "execute_result"
    },
    {
     "name": "stderr",
     "output_type": "stream",
     "text": [
      "C:\\Users\\ctremblay\\AppData\\Local\\Packages\\PythonSoftwareFoundation.Python.3.11_qbz5n2kfra8p0\\LocalCache\\local-packages\\Python311\\site-packages\\BAC0\\scripts\\Async.py:232: RuntimeWarning: coroutine 'DeviceConnected.ping' was never awaited\n",
      "  each.ping()\n",
      "RuntimeWarning: Enable tracemalloc to get the object allocation traceback\n"
     ]
    }
   ],
   "source": [
    "await dev3[\"ZNT_Trend\"].history"
   ]
  },
  {
   "cell_type": "code",
   "execution_count": null,
   "metadata": {},
   "outputs": [],
   "source": [
    "dev2['MINFLOWCO2-SP'].poll(command='stop')"
   ]
  },
  {
   "cell_type": "code",
   "execution_count": null,
   "metadata": {},
   "outputs": [],
   "source": [
    "bacnet.write('303:9 analogValue 3271 relinquishDefault 700')"
   ]
  },
  {
   "cell_type": "code",
   "execution_count": null,
   "metadata": {},
   "outputs": [],
   "source": [
    "\n",
    "request = \"{}{}\".format(dev.properties.address, \"\".join(l[0]))\n",
    "print(request)\n",
    "await bacnet.readMultiple(request)"
   ]
  },
  {
   "cell_type": "code",
   "execution_count": null,
   "metadata": {},
   "outputs": [],
   "source": [
    "from BAC0.core.io.asynchronous.Read import ReadProperty\n",
    "await bacnet.build_rpm_request(request.split())"
   ]
  },
  {
   "cell_type": "code",
   "execution_count": null,
   "metadata": {},
   "outputs": [],
   "source": [
    "from bacpypes3.pdu import Address\n",
    "from bacpypes3.primitivedata import Date, Tag, Time, Unsigned\n",
    "from bacpypes3.primitivedata import ObjectIdentifier, PropertyIdentifier\n",
    "from bacpypes3.apdu import ReadPropertyRequest\n",
    "\n",
    "args = '303:9 analogValue 9 presentValue'\n",
    "address,objid,prop, idx = bacnet.build_rp_request(args.split())\n",
    "#read_property_request = ReadPropertyRequest(\n",
    "#    objectIdentifier=objid,\n",
    "#    propertyIdentifier='presentValue',\n",
    "#    destination=address,\n",
    "#)\n",
    "type(objid)"
   ]
  },
  {
   "cell_type": "code",
   "execution_count": null,
   "metadata": {},
   "outputs": [],
   "source": [
    "segmentation = await bacnet.read(\"303:9 device 5209 segmentationSupported\")\n",
    "segmentation = False if segmentation.numerator == 3 else True"
   ]
  },
  {
   "cell_type": "code",
   "execution_count": null,
   "metadata": {},
   "outputs": [],
   "source": [
    "t = BAC0.tasks.asynchronous.TaskManager.Task\n",
    "t.tasks"
   ]
  },
  {
   "cell_type": "code",
   "execution_count": null,
   "metadata": {},
   "outputs": [],
   "source": [
    "description = await bacnet.read(\"303:8 analogValue 9 description\")"
   ]
  },
  {
   "cell_type": "code",
   "execution_count": null,
   "metadata": {},
   "outputs": [],
   "source": [
    "from BAC0.tasks.asynchronous.TaskManager import Task\n",
    "t = Task()"
   ]
  },
  {
   "cell_type": "code",
   "execution_count": null,
   "metadata": {},
   "outputs": [],
   "source": [
    "pl = ()\n",
    "pl + 'a'"
   ]
  },
  {
   "cell_type": "code",
   "execution_count": null,
   "metadata": {},
   "outputs": [],
   "source": [
    "Tag List :  [\n",
    "    <bacpypes3.primitivedata.Tag(context(0)) instance at 0x19183796a90>, # Object Identifier\n",
    "    <bacpypes3.primitivedata.Tag(context(1)) instance at 0x191851bc110>, # Property Identifier\n",
    "    <bacpypes3.primitivedata.Tag(context(3)) instance at 0x191851bc8d0>, # resultFlags\n",
    "    <bacpypes3.primitivedata.Tag(context(4)) instance at 0x191851bc990>, # itemCount\n",
    "    <bacpypes3.primitivedata.Tag(open(5)) instance at 0x191851bca50>, # itemData\n",
    "    <bacpypes3.primitivedata.Tag(open(0)) instance at 0x191851bca90>,  # OPEN\n",
    "    <bacpypes3.primitivedata.Tag(date) instance at 0x191851bcb10>,        # Date\n",
    "    <bacpypes3.primitivedata.Tag(time) instance at 0x191851bcb90>,        # Time\n",
    "    <bacpypes3.primitivedata.Tag(close(0)) instance at 0x191851bcc10>, # CLOSE\n",
    "    <bacpypes3.primitivedata.Tag(open(1)) instance at 0x191851bc690>,  # OPEN\n",
    "    <bacpypes3.primitivedata.Tag(context(2)) instance at 0x191851bccd0>,  # REAL VALUE\n",
    "    <bacpypes3.primitivedata.Tag(close(1)) instance at 0x191851bc0d0>, # CLOSE\n",
    "    <bacpypes3.primitivedata.Tag(context(2)) instance at 0x191851bcd90>,  # STATUS - NO OPEN CLOSE\n",
    "    <bacpypes3.primitivedata.Tag(open(0)) instance at 0x191851bce10>, # OPEN\n",
    "    <bacpypes3.primitivedata.Tag(date) instance at 0x191851bce90>,         # Date\n",
    "    <bacpypes3.primitivedata.Tag(time) instance at 0x191851bcf10>,         # Time\n",
    "    <bacpypes3.primitivedata.Tag(close(0)) instance at 0x191851bcf90>, # CLOSE \n",
    "    <bacpypes3.primitivedata.Tag(open(1)) instance at 0x191851bd010>, # OPEN\n",
    "    <bacpypes3.primitivedata.Tag(context(2)) instance at 0x191851bd090>, # REAL VALUE\n",
    "    <bacpypes3.primitivedata.Tag(close(1)) instance at 0x191851bd110>,  # CLOSE\n",
    "    <bacpypes3.primitivedata.Tag(context(2)) instance at 0x191851bd190>, # STATUS FLAGS\n",
    "    <bacpypes3.primitivedata.Tag(close(5)) instance at 0x191851bd210>, # Close itemData\n",
    "    <bacpypes3.primitivedata.Tag(context(6)) instance at 0x191851bd290>] # FirstSequenceNumber\n",
    "communication: invalid-tag\n",
    "\"\"\"\n",
    "Frame 80493: 116 bytes on wire (928 bits), 116 bytes captured (928 bits) on interface \\Device\\NPF_{073DF508-C57D-4844-B446-0AB1569201BD}, id 0\n",
    "Ethernet II, Src: Contempo_00:e1:2d (00:50:db:00:e1:2d), Dst: Dell_89:c7:83 (ac:1a:3d:89:c7:83)\n",
    "Internet Protocol Version 4, Src: 192.168.211.30, Dst: 192.168.211.208\n",
    "User Datagram Protocol, Src Port: 47808, Dst Port: 47808\n",
    "BACnet Virtual Link Control\n",
    "Building Automation and Control Network NPDU\n",
    "    Version: 0x01 (ASHRAE 135-1995)\n",
    "    Control: 0x08, Source specifier\n",
    "    Source Network Address: 303\n",
    "    Source MAC Layer Address Length: 1\n",
    "    SADR: 7\n",
    "Building Automation and Control Network APDU\n",
    "    0011 .... = APDU Type: Complex-ACK (3)\n",
    "    .... 0000 = PDU Flags: 0x0\n",
    "    Invoke ID: 0\n",
    "    Service Choice: readRange (26)\n",
    "    ObjectIdentifier: trend-log, 101010\n",
    "    Property Identifier: log-buffer (131)\n",
    "    resultFlags: (Bit String) (FFF)\n",
    "    item Count: (Unsigned) 2\n",
    "    itemData\n",
    "        {[5]\n",
    "            .... 1... = Tag Class: Context Specific Tag\n",
    "            0101 .... = Context Tag Number: 5\n",
    "            .... .110 = Named Tag: Opening Tag (6)\n",
    "        {[0]\n",
    "        Date: October 16, 2023, (Day of Week = Monday)\n",
    "        Time: 9:30:00.0 A.M. = 09:30:00.0\n",
    "        }[0]\n",
    "        {[1]\n",
    "        real value: 22.216022 (Real)\n",
    "        }[1]\n",
    "        Status Flags: (Bit String) (FFFF)\n",
    "        {[0]\n",
    "        Date: October 16, 2023, (Day of Week = Monday)\n",
    "        Time: 9:45:00.0 A.M. = 09:45:00.0\n",
    "        }[0]\n",
    "        {[1]\n",
    "        real value: 22.232443 (Real)\n",
    "        }[1]\n",
    "        Status Flags: (Bit String) (FFFF)\n",
    "        }[5]\n",
    "        first Sequence Number: (Unsigned) 3264\n",
    "\"\"\""
   ]
  },
  {
   "cell_type": "code",
   "execution_count": null,
   "metadata": {},
   "outputs": [],
   "source": [
    "l = []\n",
    "l.pop()"
   ]
  },
  {
   "cell_type": "code",
   "execution_count": null,
   "metadata": {},
   "outputs": [],
   "source": [
    "\"1\".split(\"'prop_\")[1]"
   ]
  },
  {
   "cell_type": "code",
   "execution_count": null,
   "metadata": {},
   "outputs": [],
   "source": [
    "import re\n",
    "from bacpypes3.pdu import Address\n",
    "rpm_request_pattern = r\"(?P<request>(?P<Object>[0-9A-Za-z-]+:\\d+)[, ]+[(\\[ ](?P<Properties>(?P<Property>[0-9A-Za-z-]+(\\[\\d+\\])*[, ]*)+)[)\\]]*)\"\n",
    "\n",
    "args = \"303:9 device:5209, [object-list[0]], analogValue:56, [present-value units description], analogValue:75, [present-value units description]\"\n",
    "args2 = \"303:9 device:5209, object-list[0], analogValue:56, present-value units description, analogValue:75, present-value units description\"\n",
    "\n",
    "def build_request(args):\n",
    "    address = Address(args.split()[0])\n",
    "    pattern = re.compile(rpm_request_pattern)\n",
    "\n",
    "    result = re.findall(pattern, args)\n",
    "    request = [address]\n",
    "    for each in result:\n",
    "        _, object, properties, _, _ = each\n",
    "        request.append(object)\n",
    "        request.append([x for x in properties.split()])\n",
    "    print(request)\n",
    "    return request\n",
    "\n",
    "build_request(args)\n",
    "build_request(args2)"
   ]
  },
  {
   "cell_type": "code",
   "execution_count": 2,
   "metadata": {},
   "outputs": [
    {
     "ename": "ValueError",
     "evalue": "could not convert string to float: 'b'",
     "output_type": "error",
     "traceback": [
      "\u001b[1;31m---------------------------------------------------------------------------\u001b[0m",
      "\u001b[1;31mValueError\u001b[0m                                Traceback (most recent call last)",
      "\u001b[1;32md:\\0Programmes\\Github\\BAC0\\BAC0\\core\\app\\play2.ipynb Cell 27\u001b[0m line \u001b[0;36m1\n\u001b[1;32m----> <a href='vscode-notebook-cell:/d%3A/0Programmes/Github/BAC0/BAC0/core/app/play2.ipynb#X35sZmlsZQ%3D%3D?line=0'>1</a>\u001b[0m \u001b[39mfloat\u001b[39;49m(\u001b[39m'\u001b[39;49m\u001b[39mb\u001b[39;49m\u001b[39m'\u001b[39;49m)\n",
      "\u001b[1;31mValueError\u001b[0m: could not convert string to float: 'b'"
     ]
    }
   ],
   "source": [
    "float('b')"
   ]
  },
  {
   "cell_type": "code",
   "execution_count": 1,
   "metadata": {},
   "outputs": [
    {
     "data": {
      "text/plain": [
       "['303:7',\n",
       " 'trendLog,101010',\n",
       " 'logBuffer',\n",
       " 't',\n",
       " 'None',\n",
       " '2023-10-18',\n",
       " '10:00:00',\n",
       " '-2']"
      ]
     },
     "execution_count": 1,
     "metadata": {},
     "output_type": "execute_result"
    }
   ],
   "source": [
    "arg = \"303:7 trendLog,101010 logBuffer t None 2023-10-18 10:00:00 -2\"\n",
    "arg.split()"
   ]
  },
  {
   "cell_type": "code",
   "execution_count": 3,
   "metadata": {},
   "outputs": [],
   "source": []
  },
  {
   "cell_type": "code",
   "execution_count": 4,
   "metadata": {},
   "outputs": [
    {
     "data": {
      "text/plain": [
       "<bacpypes3.vendor.VendorInfo at 0x20911404290>"
      ]
     },
     "execution_count": 4,
     "metadata": {},
     "output_type": "execute_result"
    }
   ],
   "source": [
    "jci"
   ]
  },
  {
   "cell_type": "code",
   "execution_count": 8,
   "metadata": {},
   "outputs": [],
   "source": [
    "from bacpypes3.object import AnalogValueObject, DeviceObject\n",
    "from bacpypes3.primitivedata import Real, Boolean, Atomic, Enumerated, Unsigned\n",
    "JCIAnalogValueObject = {\n",
    "    \"name\": \"JCIAnalogValueObject\",\n",
    "    \"vendor_id\": 5,\n",
    "    \"objectType\": \"analogValue\",\n",
    "    \"bacpypes_type\": AnalogValueObject,\n",
    "    \"properties\": {\n",
    "        \"FLOW-SP_EEPROM\": {\"obj_id\": 3113, \"datatype\": Real, \"mutable\": True},\n",
    "        \"Offset\": {\"obj_id\": 956, \"datatype\": Real, \"mutable\": True},\n",
    "        \"Offline\": {\"obj_id\": 913, \"datatype\": Boolean, \"mutable\": False},\n",
    "        \"SABusAddr\": {\"obj_id\": 3645, \"datatype\": Unsigned, \"mutable\": False},\n",
    "        \"PeerToPeer\": {\"obj_id\": 748, \"datatype\": Atomic, \"mutable\": False},\n",
    "        \"P2P_ErrorStatus\": {\"obj_id\": 746, \"datatype\": Enumerated, \"mutable\": False},\n",
    "    },\n",
    "}"
   ]
  },
  {
   "cell_type": "code",
   "execution_count": 1,
   "metadata": {},
   "outputs": [],
   "source": [
    "from bacpypes3.vendor import VendorInfo\n",
    "from BAC0.core.proprietary_objects.jci import JCIDeviceObject, JCIAnalogInputObject, JCIAnalogOutputObject, JCIAnalogValueObject\n",
    "jci = VendorInfo(5)\n",
    "def create_vendor_class(config, vendor_info=None):\n",
    "    _klass = config['bacpypes_type']()\n",
    "    for k,v in config[\"properties\"].items():\n",
    "        vendor_info.register_object_class(v['obj_id'], v['datatype'])\n",
    "\n"
   ]
  },
  {
   "cell_type": "code",
   "execution_count": 2,
   "metadata": {},
   "outputs": [
    {
     "name": "stderr",
     "output_type": "stream",
     "text": [
      "C:\\Users\\ctremblay\\AppData\\Local\\Packages\\PythonSoftwareFoundation.Python.3.11_qbz5n2kfra8p0\\LocalCache\\local-packages\\Python311\\site-packages\\bacpypes3\\vendor.py:111: UserWarning: object type 913 for vendor identifier 5 already registered: <class 'bacpypes.primitivedata.Boolean'>\n",
      "  warnings.warn(\n",
      "C:\\Users\\ctremblay\\AppData\\Local\\Packages\\PythonSoftwareFoundation.Python.3.11_qbz5n2kfra8p0\\LocalCache\\local-packages\\Python311\\site-packages\\bacpypes3\\vendor.py:111: UserWarning: object type 3645 for vendor identifier 5 already registered: <class 'bacpypes.primitivedata.Unsigned'>\n",
      "  warnings.warn(\n",
      "C:\\Users\\ctremblay\\AppData\\Local\\Packages\\PythonSoftwareFoundation.Python.3.11_qbz5n2kfra8p0\\LocalCache\\local-packages\\Python311\\site-packages\\bacpypes3\\vendor.py:111: UserWarning: object type 956 for vendor identifier 5 already registered: <class 'bacpypes.primitivedata.Real'>\n",
      "  warnings.warn(\n"
     ]
    }
   ],
   "source": [
    "create_vendor_class(JCIDeviceObject, jci)\n",
    "create_vendor_class(JCIAnalogInputObject, jci)\n",
    "create_vendor_class(JCIAnalogOutputObject, jci)\n",
    "create_vendor_class(JCIAnalogValueObject, jci)"
   ]
  },
  {
   "cell_type": "code",
   "execution_count": 3,
   "metadata": {},
   "outputs": [
    {
     "data": {
      "text/plain": [
       "{'ALARM_STATE': {'obj_id': 1006,\n",
       "  'datatype': bacpypes.primitivedata.Enumerated,\n",
       "  'mutable': False},\n",
       " 'ARCHIVE_DATE': {'obj_id': 849,\n",
       "  'datatype': bacpypes.primitivedata.Date,\n",
       "  'mutable': False},\n",
       " 'ARCHIVE_STATUS': {'obj_id': 1187,\n",
       "  'datatype': bacpypes.primitivedata.Unsigned,\n",
       "  'mutable': False},\n",
       " 'ARCHIVE_TIME': {'obj_id': 850,\n",
       "  'datatype': bacpypes.primitivedata.Time,\n",
       "  'mutable': False},\n",
       " 'CPU_USAGE': {'obj_id': 2583,\n",
       "  'datatype': bacpypes.primitivedata.Real,\n",
       "  'mutable': False},\n",
       " 'ENABLED': {'obj_id': 673,\n",
       "  'datatype': bacpypes.primitivedata.Boolean,\n",
       "  'mutable': True},\n",
       " 'EXECUTION_PRIORITY': {'obj_id': 2197,\n",
       "  'datatype': bacpypes.primitivedata.Enumerated,\n",
       "  'mutable': True},\n",
       " 'EXTENDED_PROTO_VERSION': {'obj_id': 2291,\n",
       "  'datatype': bacpypes.primitivedata.Unsigned,\n",
       "  'mutable': False},\n",
       " 'FLASH_USAGE': {'obj_id': 2584,\n",
       "  'datatype': bacpypes.primitivedata.Real,\n",
       "  'mutable': False},\n",
       " 'ITEM_REFERENCE': {'obj_id': 32527,\n",
       "  'datatype': bacpypes.primitivedata.CharacterString,\n",
       "  'mutable': False},\n",
       " 'JCI_STATUS': {'obj_id': 847,\n",
       "  'datatype': bacpypes.primitivedata.Enumerated,\n",
       "  'mutable': False},\n",
       " 'MEMORY_USAGE': {'obj_id': 2581,\n",
       "  'datatype': bacpypes.primitivedata.Real,\n",
       "  'mutable': False},\n",
       " 'OBJECT_CATEGORY': {'obj_id': 908,\n",
       "  'datatype': bacpypes.primitivedata.Enumerated,\n",
       "  'mutable': True},\n",
       " 'OBJECT_MEMORY_USAGE': {'obj_id': 2582,\n",
       "  'datatype': bacpypes.primitivedata.Real,\n",
       "  'mutable': False},\n",
       " 'STATUS': {'obj_id': 512,\n",
       "  'datatype': bacpypes.primitivedata.Enumerated,\n",
       "  'mutable': False},\n",
       " 'BACNET_BROADCAST_RECEIVE_RATE': {'obj_id': 745,\n",
       "  'datatype': bacpypes.primitivedata.Unsigned,\n",
       "  'mutable': False},\n",
       " 'DEFAULT_BASE_UNITS': {'obj_id': 2206,\n",
       "  'datatype': bacpypes.primitivedata.Enumerated,\n",
       "  'mutable': False},\n",
       " 'ESTIMATED_FLASH_AVAILABLE': {'obj_id': 2395,\n",
       "  'datatype': bacpypes.primitivedata.Real,\n",
       "  'mutable': False},\n",
       " 'LAST_IDLE_SAMPLE': {'obj_id': 30082,\n",
       "  'datatype': bacpypes.primitivedata.Real,\n",
       "  'mutable': False},\n",
       " 'MAX_MESSAGE_BUFFER': {'obj_id': 848,\n",
       "  'datatype': bacpypes.primitivedata.Unsigned,\n",
       "  'mutable': True},\n",
       " 'USER_NAME': {'obj_id': 2390,\n",
       "  'datatype': bacpypes.primitivedata.CharacterString,\n",
       "  'mutable': False},\n",
       " 'PCODE': {'obj_id': 1320,\n",
       "  'datatype': bacpypes.primitivedata.CharacterString,\n",
       "  'mutable': False},\n",
       " 'SAB_DEVICE_STATUS_LIST_CHANGED ': {'obj_id': 4514,\n",
       "  'datatype': bacpypes.primitivedata.Unsigned,\n",
       "  'mutable': False},\n",
       " 'EVENTS_LOST ': {'obj_id': 1479,\n",
       "  'datatype': bacpypes.primitivedata.Unsigned,\n",
       "  'mutable': False},\n",
       " 'ACCEPT_BACNET_TIME_SYNC': {'obj_id': 4970,\n",
       "  'datatype': bacpypes.primitivedata.Boolean,\n",
       "  'mutable': False},\n",
       " 'SUPERVISORY_DEVICE_ONLINE': {'obj_id': 3653,\n",
       "  'datatype': bacpypes.primitivedata.Boolean,\n",
       "  'mutable': True},\n",
       " 'SUPERVISORY_OFFLINE_TIMEOUT': {'obj_id': 6002,\n",
       "  'datatype': bacpypes.primitivedata.Unsigned,\n",
       "  'mutable': True},\n",
       " 'NEXT_AVAILABLE_OID': {'obj_id': 787,\n",
       "  'datatype': bacpypes.primitivedata.Unsigned,\n",
       "  'mutable': True},\n",
       " 'HAS_UNBOUND_REFERENCES': {'obj_id': 767,\n",
       "  'datatype': bacpypes.primitivedata.Boolean,\n",
       "  'mutable': False},\n",
       " 'SURROGATE_CACHE_CNT': {'obj_id': 571,\n",
       "  'datatype': bacpypes.primitivedata.Unsigned,\n",
       "  'mutable': False},\n",
       " 'SURROGATE_CACHE_MAX': {'obj_id': 639,\n",
       "  'datatype': bacpypes.primitivedata.Unsigned,\n",
       "  'mutable': False},\n",
       " 'LOAD_BALANCER_LEVEL': {'obj_id': 4722,\n",
       "  'datatype': bacpypes.primitivedata.Enumerated,\n",
       "  'mutable': False},\n",
       " 'TIMER_DB_SIZE': {'obj_id': 733,\n",
       "  'datatype': bacpypes.primitivedata.Unsigned,\n",
       "  'mutable': False},\n",
       " 'TIMER_USED': {'obj_id': 734,\n",
       "  'datatype': bacpypes.primitivedata.Unsigned,\n",
       "  'mutable': False},\n",
       " 'TIMER_PEAK': {'obj_id': 735,\n",
       "  'datatype': bacpypes.primitivedata.Unsigned,\n",
       "  'mutable': False},\n",
       " 'TIMER_MESSAGES_ABORTED': {'obj_id': 4959,\n",
       "  'datatype': bacpypes.primitivedata.Unsigned,\n",
       "  'mutable': False},\n",
       " 'BACNET_OID_ALLOCATED': {'obj_id': 1291,\n",
       "  'datatype': bacpypes.primitivedata.Unsigned,\n",
       "  'mutable': False},\n",
       " 'BACNET_OID_USED': {'obj_id': 1292,\n",
       "  'datatype': bacpypes.primitivedata.Unsigned,\n",
       "  'mutable': False},\n",
       " 'SIGN_PRI_DB_SIZE': {'obj_id': 730,\n",
       "  'datatype': bacpypes.primitivedata.Unsigned,\n",
       "  'mutable': False},\n",
       " 'SIGN_PRI_USED': {'obj_id': 731,\n",
       "  'datatype': bacpypes.primitivedata.Unsigned,\n",
       "  'mutable': False},\n",
       " 'SIGN_PRI_PEAK': {'obj_id': 732,\n",
       "  'datatype': bacpypes.primitivedata.Unsigned,\n",
       "  'mutable': False},\n",
       " 'BACNET_ENCODE_TYPE': {'obj_id': 32578,\n",
       "  'datatype': bacpypes.primitivedata.Enumerated,\n",
       "  'mutable': True},\n",
       " 'ROUTING_MODE': {'obj_id': 4307,\n",
       "  'datatype': bacpypes.primitivedata.Enumerated,\n",
       "  'mutable': True},\n",
       " 'BACNET_INTEGRATED_OBJECTS': {'obj_id': 4302,\n",
       "  'datatype': bacpypes.primitivedata.Enumerated,\n",
       "  'mutable': False},\n",
       " 'BACNET_COMPATIBLE': {'obj_id': 4581,\n",
       "  'datatype': bacpypes.primitivedata.Boolean,\n",
       "  'mutable': False},\n",
       " 'SEND_I_AM_RATE': {'obj_id': 579,\n",
       "  'datatype': bacpypes.primitivedata.Unsigned,\n",
       "  'mutable': True},\n",
       " 'DEFAULT_TIME_ZONE': {'obj_id': 32583,\n",
       "  'datatype': bacpypes.primitivedata.Enumerated,\n",
       "  'mutable': True},\n",
       " 'TIME_ZONE': {'obj_id': 1403,\n",
       "  'datatype': bacpypes.primitivedata.Enumerated,\n",
       "  'mutable': True},\n",
       " 'LOCAL_TIME_ZONE': {'obj_id': 1404,\n",
       "  'datatype': bacpypes.primitivedata.Enumerated,\n",
       "  'mutable': False},\n",
       " 'FC_MULTICAST_RESPONDER': {'obj_id': 3390,\n",
       "  'datatype': bacpypes.primitivedata.Unsigned,\n",
       "  'mutable': True},\n",
       " 'FC_WAIT_BEFORE_POLLING': {'obj_id': 3391,\n",
       "  'datatype': bacpypes.primitivedata.Unsigned,\n",
       "  'mutable': True},\n",
       " 'SUPERVISOR_MAC_ADDRESS': {'obj_id': 3652,\n",
       "  'datatype': bacpypes.primitivedata.Unsigned,\n",
       "  'mutable': False},\n",
       " 'LIBRARY_PART_ID': {'obj_id': 3295,\n",
       "  'datatype': bacpypes.primitivedata.CharacterString,\n",
       "  'mutable': False},\n",
       " 'APPLICATION_CLASS_SET_VERSION': {'obj_id': 4128,\n",
       "  'datatype': bacpypes.primitivedata.Unsigned,\n",
       "  'mutable': False},\n",
       " 'DEVICE_MODEL_CLASS_SET_VERSION': {'obj_id': 4129,\n",
       "  'datatype': bacpypes.primitivedata.Unsigned,\n",
       "  'mutable': False},\n",
       " 'COV_MIN_SEND_TIME': {'obj_id': 3929,\n",
       "  'datatype': bacpypes.primitivedata.Unsigned,\n",
       "  'mutable': True},\n",
       " 'COV_TRANSMITS_PER_MINUTE': {'obj_id': 651,\n",
       "  'datatype': bacpypes.primitivedata.Unsigned,\n",
       "  'mutable': False},\n",
       " 'CONTROL_SEQUENCE_IN_TEST': {'obj_id': 3651,\n",
       "  'datatype': bacpypes.primitivedata.Unsigned,\n",
       "  'mutable': True},\n",
       " 'END_OF_LINE': {'obj_id': 603,\n",
       "  'datatype': bacpypes.primitivedata.Boolean,\n",
       "  'mutable': False},\n",
       " 'DEVICE_ADDRESS': {'obj_id': 876,\n",
       "  'datatype': bacpypes.primitivedata.Unsigned,\n",
       "  'mutable': False},\n",
       " 'FC_BUS_COMMUNICATION_MODE': {'obj_id': 4400,\n",
       "  'datatype': bacpypes.primitivedata.Enumerated,\n",
       "  'mutable': False},\n",
       " 'SYSTEM_TYPE': {'obj_id': 3900,\n",
       "  'datatype': bacpypes.primitivedata.Unsigned,\n",
       "  'mutable': False},\n",
       " 'SYSTEM_CONFIGURATION': {'obj_id': 3899,\n",
       "  'datatype': bacpypes.primitivedata.Unsigned,\n",
       "  'mutable': False},\n",
       " 'SABusPerformance': {'obj_id': 12157,\n",
       "  'datatype': bacpypes.primitivedata.Enumerated,\n",
       "  'mutable': False},\n",
       " 'SABusTokenLoopTime': {'obj_id': 12158,\n",
       "  'datatype': bacpypes.primitivedata.Unsigned,\n",
       "  'mutable': False},\n",
       " 'SABusCOVRcvPerMinute': {'obj_id': 12159,\n",
       "  'datatype': bacpypes.primitivedata.Unsigned,\n",
       "  'mutable': False},\n",
       " 'SABusCOVWritesPerMinute': {'obj_id': 12160,\n",
       "  'datatype': bacpypes.primitivedata.Unsigned,\n",
       "  'mutable': False}}"
      ]
     },
     "execution_count": 3,
     "metadata": {},
     "output_type": "execute_result"
    }
   ],
   "source": [
    "JCIDeviceObject['properties']"
   ]
  },
  {
   "cell_type": "code",
   "execution_count": 21,
   "metadata": {},
   "outputs": [],
   "source": [
    "pl"
   ]
  },
  {
   "cell_type": "code",
   "execution_count": 22,
   "metadata": {},
   "outputs": [
    {
     "name": "stderr",
     "output_type": "stream",
     "text": [
      "    vendor_identifier = 5\n",
      "    object_type = <class 'bacpypes3.primitivedata.ObjectType'>\n",
      "    object_identifier = <class 'bacpypes3.primitivedata.ObjectIdentifier'>\n",
      "    property_identifier = <class 'bacpypes3.primitivedata.PropertyIdentifier'>\n"
     ]
    }
   ],
   "source": [
    "jci.debug_contents()"
   ]
  },
  {
   "cell_type": "code",
   "execution_count": 2,
   "metadata": {},
   "outputs": [],
   "source": [
    "jci.get_object_class(1006)"
   ]
  },
  {
   "cell_type": "code",
   "execution_count": 2,
   "metadata": {},
   "outputs": [],
   "source": [
    "from ddcmath.airflow import fpm2cfm, cfm2ls\n",
    "\n",
    "fpm = (1170+1511+1129)/3\n",
    "debit = cfm2ls(fpm2cfm(fpm, area=(16,16)))"
   ]
  },
  {
   "cell_type": "code",
   "execution_count": 3,
   "metadata": {},
   "outputs": [
    {
     "data": {
      "text/plain": [
       "1065.551895824128"
      ]
     },
     "execution_count": 3,
     "metadata": {},
     "output_type": "execute_result"
    }
   ],
   "source": [
    "debit"
   ]
  },
  {
   "cell_type": "code",
   "execution_count": null,
   "metadata": {},
   "outputs": [],
   "source": []
  }
 ],
 "metadata": {
  "kernelspec": {
   "display_name": "Python 3",
   "language": "python",
   "name": "python3"
  },
  "language_info": {
   "codemirror_mode": {
    "name": "ipython",
    "version": 3
   },
   "file_extension": ".py",
   "mimetype": "text/x-python",
   "name": "python",
   "nbconvert_exporter": "python",
   "pygments_lexer": "ipython3",
   "version": "3.11.7"
  }
 },
 "nbformat": 4,
 "nbformat_minor": 2
}
